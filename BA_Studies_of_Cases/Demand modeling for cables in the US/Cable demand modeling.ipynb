{
 "cells": [
  {
   "cell_type": "markdown",
   "metadata": {},
   "source": [
    "# Demand function modeling\n",
    "\n",
    "Cable demand in the US"
   ]
  },
  {
   "cell_type": "code",
   "execution_count": 1,
   "metadata": {},
   "outputs": [],
   "source": [
    "# loading packages\n",
    "import numpy as np\n",
    "import pandas as pd\n",
    "import matplotlib.pyplot as plt\n",
    "import scipy.stats\n",
    "\n",
    "# packages for statistical analysis \n",
    "import statsmodels.api as sm\n",
    "import statsmodels.tsa.api as smt\n",
    "import statsmodels.stats as stats\n",
    "\n",
    "from statsmodels.formula.api import ols\n",
    "from statsmodels.graphics.gofplots import qqplot\n",
    "from statsmodels.stats.outliers_influence import reset_ramsey"
   ]
  },
  {
   "cell_type": "code",
   "execution_count": 2,
   "metadata": {},
   "outputs": [],
   "source": [
    "def myTSplot(x, label=None):\n",
    "    dfCable[x].plot()\n",
    "    plt.title('Plot of '+ label)\n",
    "    plt.xticks(range(15), dfCable['year'], rotation='vertical')\n",
    "    plt.grid()\n",
    "    plt.show()"
   ]
  },
  {
   "cell_type": "markdown",
   "metadata": {},
   "source": [
    "\n",
    "## 1. Getting and describing the data"
   ]
  },
  {
   "cell_type": "markdown",
   "metadata": {},
   "source": [
    "### 1.1. Import the data"
   ]
  },
  {
   "cell_type": "code",
   "execution_count": 3,
   "metadata": {
    "scrolled": false
   },
   "outputs": [],
   "source": [
    "# read the data from MS Excel file\n",
    "dfCable = pd.read_excel('cable.xlsx', 'data', index_col=None, na_values=['NA'])"
   ]
  },
  {
   "cell_type": "code",
   "execution_count": 4,
   "metadata": {
    "scrolled": true
   },
   "outputs": [
    {
     "data": {
      "text/html": [
       "<div>\n",
       "<style scoped>\n",
       "    .dataframe tbody tr th:only-of-type {\n",
       "        vertical-align: middle;\n",
       "    }\n",
       "\n",
       "    .dataframe tbody tr th {\n",
       "        vertical-align: top;\n",
       "    }\n",
       "\n",
       "    .dataframe thead th {\n",
       "        text-align: right;\n",
       "    }\n",
       "</style>\n",
       "<table border=\"1\" class=\"dataframe\">\n",
       "  <thead>\n",
       "    <tr style=\"text-align: right;\">\n",
       "      <th></th>\n",
       "      <th>year</th>\n",
       "      <th>Q</th>\n",
       "      <th>Inc</th>\n",
       "      <th>Hs</th>\n",
       "      <th>Un</th>\n",
       "      <th>R</th>\n",
       "    </tr>\n",
       "  </thead>\n",
       "  <tbody>\n",
       "    <tr>\n",
       "      <th>0</th>\n",
       "      <td>1968</td>\n",
       "      <td>5873</td>\n",
       "      <td>1051.8</td>\n",
       "      <td>1503.6</td>\n",
       "      <td>3.6</td>\n",
       "      <td>5.8</td>\n",
       "    </tr>\n",
       "    <tr>\n",
       "      <th>1</th>\n",
       "      <td>1969</td>\n",
       "      <td>7852</td>\n",
       "      <td>1078.8</td>\n",
       "      <td>1486.7</td>\n",
       "      <td>3.5</td>\n",
       "      <td>6.7</td>\n",
       "    </tr>\n",
       "    <tr>\n",
       "      <th>2</th>\n",
       "      <td>1970</td>\n",
       "      <td>8189</td>\n",
       "      <td>1075.3</td>\n",
       "      <td>1434.8</td>\n",
       "      <td>5.0</td>\n",
       "      <td>8.4</td>\n",
       "    </tr>\n",
       "    <tr>\n",
       "      <th>3</th>\n",
       "      <td>1971</td>\n",
       "      <td>7497</td>\n",
       "      <td>1107.5</td>\n",
       "      <td>2035.6</td>\n",
       "      <td>6.0</td>\n",
       "      <td>6.2</td>\n",
       "    </tr>\n",
       "    <tr>\n",
       "      <th>4</th>\n",
       "      <td>1972</td>\n",
       "      <td>8534</td>\n",
       "      <td>1171.1</td>\n",
       "      <td>2360.8</td>\n",
       "      <td>5.6</td>\n",
       "      <td>5.4</td>\n",
       "    </tr>\n",
       "  </tbody>\n",
       "</table>\n",
       "</div>"
      ],
      "text/plain": [
       "   year     Q     Inc      Hs   Un    R\n",
       "0  1968  5873  1051.8  1503.6  3.6  5.8\n",
       "1  1969  7852  1078.8  1486.7  3.5  6.7\n",
       "2  1970  8189  1075.3  1434.8  5.0  8.4\n",
       "3  1971  7497  1107.5  2035.6  6.0  6.2\n",
       "4  1972  8534  1171.1  2360.8  5.6  5.4"
      ]
     },
     "execution_count": 4,
     "metadata": {},
     "output_type": "execute_result"
    }
   ],
   "source": [
    "# look at the head of the data frame\n",
    "dfCable.head(n=5)"
   ]
  },
  {
   "cell_type": "markdown",
   "metadata": {},
   "source": [
    "### 1.2. Descriptive analysis"
   ]
  },
  {
   "cell_type": "code",
   "execution_count": 5,
   "metadata": {
    "scrolled": true
   },
   "outputs": [
    {
     "data": {
      "text/html": [
       "<div>\n",
       "<style scoped>\n",
       "    .dataframe tbody tr th:only-of-type {\n",
       "        vertical-align: middle;\n",
       "    }\n",
       "\n",
       "    .dataframe tbody tr th {\n",
       "        vertical-align: top;\n",
       "    }\n",
       "\n",
       "    .dataframe thead th {\n",
       "        text-align: right;\n",
       "    }\n",
       "</style>\n",
       "<table border=\"1\" class=\"dataframe\">\n",
       "  <thead>\n",
       "    <tr style=\"text-align: right;\">\n",
       "      <th></th>\n",
       "      <th>year</th>\n",
       "      <th>Q</th>\n",
       "      <th>Inc</th>\n",
       "      <th>Hs</th>\n",
       "      <th>Un</th>\n",
       "      <th>R</th>\n",
       "    </tr>\n",
       "  </thead>\n",
       "  <tbody>\n",
       "    <tr>\n",
       "      <th>count</th>\n",
       "      <td>15.00</td>\n",
       "      <td>15.0</td>\n",
       "      <td>15.00</td>\n",
       "      <td>15.00</td>\n",
       "      <td>15.00</td>\n",
       "      <td>15.00</td>\n",
       "    </tr>\n",
       "    <tr>\n",
       "      <th>mean</th>\n",
       "      <td>1975.00</td>\n",
       "      <td>7517.8</td>\n",
       "      <td>1270.49</td>\n",
       "      <td>1601.49</td>\n",
       "      <td>6.23</td>\n",
       "      <td>9.21</td>\n",
       "    </tr>\n",
       "    <tr>\n",
       "      <th>std</th>\n",
       "      <td>4.47</td>\n",
       "      <td>1255.5</td>\n",
       "      <td>161.48</td>\n",
       "      <td>401.24</td>\n",
       "      <td>1.65</td>\n",
       "      <td>4.00</td>\n",
       "    </tr>\n",
       "    <tr>\n",
       "      <th>min</th>\n",
       "      <td>1968.00</td>\n",
       "      <td>5020.0</td>\n",
       "      <td>1051.80</td>\n",
       "      <td>1039.00</td>\n",
       "      <td>3.50</td>\n",
       "      <td>5.40</td>\n",
       "    </tr>\n",
       "    <tr>\n",
       "      <th>25%</th>\n",
       "      <td>1971.50</td>\n",
       "      <td>6905.0</td>\n",
       "      <td>1139.30</td>\n",
       "      <td>1314.95</td>\n",
       "      <td>5.30</td>\n",
       "      <td>6.40</td>\n",
       "    </tr>\n",
       "    <tr>\n",
       "      <th>50%</th>\n",
       "      <td>1975.00</td>\n",
       "      <td>7497.0</td>\n",
       "      <td>1235.00</td>\n",
       "      <td>1503.60</td>\n",
       "      <td>6.00</td>\n",
       "      <td>7.60</td>\n",
       "    </tr>\n",
       "    <tr>\n",
       "      <th>75%</th>\n",
       "      <td>1978.50</td>\n",
       "      <td>8361.5</td>\n",
       "      <td>1415.40</td>\n",
       "      <td>1985.55</td>\n",
       "      <td>7.40</td>\n",
       "      <td>10.00</td>\n",
       "    </tr>\n",
       "    <tr>\n",
       "      <th>max</th>\n",
       "      <td>1982.00</td>\n",
       "      <td>9400.0</td>\n",
       "      <td>1510.30</td>\n",
       "      <td>2360.80</td>\n",
       "      <td>9.20</td>\n",
       "      <td>17.50</td>\n",
       "    </tr>\n",
       "  </tbody>\n",
       "</table>\n",
       "</div>"
      ],
      "text/plain": [
       "          year       Q      Inc       Hs     Un      R\n",
       "count    15.00    15.0    15.00    15.00  15.00  15.00\n",
       "mean   1975.00  7517.8  1270.49  1601.49   6.23   9.21\n",
       "std       4.47  1255.5   161.48   401.24   1.65   4.00\n",
       "min    1968.00  5020.0  1051.80  1039.00   3.50   5.40\n",
       "25%    1971.50  6905.0  1139.30  1314.95   5.30   6.40\n",
       "50%    1975.00  7497.0  1235.00  1503.60   6.00   7.60\n",
       "75%    1978.50  8361.5  1415.40  1985.55   7.40  10.00\n",
       "max    1982.00  9400.0  1510.30  2360.80   9.20  17.50"
      ]
     },
     "execution_count": 5,
     "metadata": {},
     "output_type": "execute_result"
    }
   ],
   "source": [
    "# calculate basic descriptive statistics\n",
    "dfCable.describe().round(2)"
   ]
  },
  {
   "cell_type": "markdown",
   "metadata": {},
   "source": [
    "### 1.3. Graphical analysis: individual time-series graphs"
   ]
  },
  {
   "cell_type": "code",
   "execution_count": 6,
   "metadata": {},
   "outputs": [
    {
     "data": {
      "image/png": "[encoded data removed]",
      "text/plain": [
       "<Figure size 432x288 with 1 Axes>"
      ]
     },
     "metadata": {
      "needs_background": "light"
     },
     "output_type": "display_data"
    }
   ],
   "source": [
    "# Plot of Cable Sales\n",
    "myTSplot('Q', 'Cable Sales: Quantity')"
   ]
  },
  {
   "cell_type": "code",
   "execution_count": 7,
   "metadata": {},
   "outputs": [
    {
     "data": {
      "image/png": "[encoded data removed]",
      "text/plain": [
       "<Figure size 432x288 with 1 Axes>"
      ]
     },
     "metadata": {
      "needs_background": "light"
     },
     "output_type": "display_data"
    }
   ],
   "source": [
    "# Plot of Income\n",
    "myTSplot('Inc', 'Income: GNP')"
   ]
  },
  {
   "cell_type": "code",
   "execution_count": 8,
   "metadata": {},
   "outputs": [
    {
     "data": {
      "image/png": "[encoded data removed]",
      "text/plain": [
       "<Figure size 432x288 with 1 Axes>"
      ]
     },
     "metadata": {
      "needs_background": "light"
     },
     "output_type": "display_data"
    }
   ],
   "source": [
    "# Plot of Housing starts\n",
    "myTSplot('Hs', 'New houses built')"
   ]
  },
  {
   "cell_type": "code",
   "execution_count": 9,
   "metadata": {},
   "outputs": [
    {
     "data": {
      "image/png": "[encoded data removed]",
      "text/plain": [
       "<Figure size 432x288 with 1 Axes>"
      ]
     },
     "metadata": {
      "needs_background": "light"
     },
     "output_type": "display_data"
    }
   ],
   "source": [
    "# Plot of Unemployment\n",
    "myTSplot('Un', 'Annual unemployment rate')"
   ]
  },
  {
   "cell_type": "code",
   "execution_count": 11,
   "metadata": {},
   "outputs": [
    {
     "data": {
      "image/png": "[encoded data removed]",
      "text/plain": [
       "<Figure size 432x288 with 1 Axes>"
      ]
     },
     "metadata": {
      "needs_background": "light"
     },
     "output_type": "display_data"
    }
   ],
   "source": [
    "# Plot of INTEREST RATE\n",
    "myTSplot('R', 'Avg nominal interest rate')"
   ]
  },
  {
   "cell_type": "markdown",
   "metadata": {},
   "source": [
    "## 2. Running a simple pair-wise analysis"
   ]
  },
  {
   "cell_type": "code",
   "execution_count": 12,
   "metadata": {},
   "outputs": [],
   "source": [
    "# extract Qc and Pc\n",
    "Inc = dfCable['Inc']\n",
    "Q = dfCable['Q']"
   ]
  },
  {
   "cell_type": "code",
   "execution_count": 13,
   "metadata": {},
   "outputs": [
    {
     "data": {
      "image/png": "[encoded data removed]",
      "text/plain": [
       "<Figure size 432x288 with 1 Axes>"
      ]
     },
     "metadata": {
      "needs_background": "light"
     },
     "output_type": "display_data"
    }
   ],
   "source": [
    "# scatter plot\n",
    "plt.scatter(Q, Inc)\n",
    "plt.xlabel(\"Cable Sales\")\n",
    "plt.ylabel(\"Inc\")\n",
    "plt.title(\"Inc and Cable Sales\")\n",
    "plt.grid()\n",
    "\n",
    "#regression part\n",
    "slopeY, interceptY, _, _, _ = scipy.stats.linregress(Q,Inc)\n",
    "lineY = slopeY*Q+interceptY\n",
    "plt.plot(Q, lineY, 'r', label='Q = {:.2f} + {:.2f}*Inc'.format(interceptY, slopeY))\n",
    "#end\n",
    "\n",
    "plt.legend()\n",
    "plt.show()"
   ]
  },
  {
   "cell_type": "code",
   "execution_count": 14,
   "metadata": {},
   "outputs": [
    {
     "name": "stdout",
     "output_type": "stream",
     "text": [
      "Pearson's correlation =  0.194\n",
      "Pearson's p-value =  0.489\n"
     ]
    }
   ],
   "source": [
    "# run a pair-wise correlation analysis\n",
    "coefPears, pvPears= scipy.stats.pearsonr(Q, Inc)\n",
    "\n",
    "print(\"Pearson's correlation = \", round(coefPears,3))\n",
    "print(\"Pearson's p-value = \", round(pvPears,3))"
   ]
  },
  {
   "cell_type": "markdown",
   "metadata": {},
   "source": [
    "## 3. Linear regression analysis"
   ]
  },
  {
   "cell_type": "markdown",
   "metadata": {},
   "source": [
    "### 3.1. MODEL 1: Multivariate linear regression"
   ]
  },
  {
   "cell_type": "code",
   "execution_count": 15,
   "metadata": {},
   "outputs": [
    {
     "name": "stderr",
     "output_type": "stream",
     "text": [
      "/home/ina/anaconda3/lib/python3.9/site-packages/scipy/stats/stats.py:1541: UserWarning: kurtosistest only valid for n>=20 ... continuing anyway, n=15\n",
      "  warnings.warn(\"kurtosistest only valid for n>=20 ... continuing \"\n"
     ]
    },
    {
     "data": {
      "text/html": [
       "<table class=\"simpletable\">\n",
       "<caption>OLS Regression Results</caption>\n",
       "<tr>\n",
       "  <th>Dep. Variable:</th>            <td>Q</td>        <th>  R-squared:         </th> <td>   0.615</td>\n",
       "</tr>\n",
       "<tr>\n",
       "  <th>Model:</th>                   <td>OLS</td>       <th>  Adj. R-squared:    </th> <td>   0.510</td>\n",
       "</tr>\n",
       "<tr>\n",
       "  <th>Method:</th>             <td>Least Squares</td>  <th>  F-statistic:       </th> <td>   5.863</td>\n",
       "</tr>\n",
       "<tr>\n",
       "  <th>Date:</th>             <td>Wed, 16 Nov 2022</td> <th>  Prob (F-statistic):</th>  <td>0.0121</td> \n",
       "</tr>\n",
       "<tr>\n",
       "  <th>Time:</th>                 <td>17:37:49</td>     <th>  Log-Likelihood:    </th> <td> -120.63</td>\n",
       "</tr>\n",
       "<tr>\n",
       "  <th>No. Observations:</th>      <td>    15</td>      <th>  AIC:               </th> <td>   249.3</td>\n",
       "</tr>\n",
       "<tr>\n",
       "  <th>Df Residuals:</th>          <td>    11</td>      <th>  BIC:               </th> <td>   252.1</td>\n",
       "</tr>\n",
       "<tr>\n",
       "  <th>Df Model:</th>              <td>     3</td>      <th>                     </th>     <td> </td>   \n",
       "</tr>\n",
       "<tr>\n",
       "  <th>Covariance Type:</th>      <td>nonrobust</td>    <th>                     </th>     <td> </td>   \n",
       "</tr>\n",
       "</table>\n",
       "<table class=\"simpletable\">\n",
       "<tr>\n",
       "      <td></td>         <th>coef</th>     <th>std err</th>      <th>t</th>      <th>P>|t|</th>  <th>[0.025</th>    <th>0.975]</th>  \n",
       "</tr>\n",
       "<tr>\n",
       "  <th>Intercept</th> <td>  511.6624</td> <td> 2403.931</td> <td>    0.213</td> <td> 0.835</td> <td>-4779.354</td> <td> 5802.679</td>\n",
       "</tr>\n",
       "<tr>\n",
       "  <th>Inc</th>       <td>    5.9538</td> <td>    1.983</td> <td>    3.002</td> <td> 0.012</td> <td>    1.589</td> <td>   10.318</td>\n",
       "</tr>\n",
       "<tr>\n",
       "  <th>Hs</th>        <td>    1.5362</td> <td>    0.642</td> <td>    2.392</td> <td> 0.036</td> <td>    0.123</td> <td>    2.950</td>\n",
       "</tr>\n",
       "<tr>\n",
       "  <th>Un</th>        <td> -484.7288</td> <td>  204.183</td> <td>   -2.374</td> <td> 0.037</td> <td> -934.133</td> <td>  -35.324</td>\n",
       "</tr>\n",
       "</table>\n",
       "<table class=\"simpletable\">\n",
       "<tr>\n",
       "  <th>Omnibus:</th>       <td> 0.470</td> <th>  Durbin-Watson:     </th> <td>   1.641</td>\n",
       "</tr>\n",
       "<tr>\n",
       "  <th>Prob(Omnibus):</th> <td> 0.791</td> <th>  Jarque-Bera (JB):  </th> <td>   0.170</td>\n",
       "</tr>\n",
       "<tr>\n",
       "  <th>Skew:</th>          <td>-0.244</td> <th>  Prob(JB):          </th> <td>   0.918</td>\n",
       "</tr>\n",
       "<tr>\n",
       "  <th>Kurtosis:</th>      <td> 2.815</td> <th>  Cond. No.          </th> <td>2.19e+04</td>\n",
       "</tr>\n",
       "</table><br/><br/>Notes:<br/>[1] Standard Errors assume that the covariance matrix of the errors is correctly specified.<br/>[2] The condition number is large, 2.19e+04. This might indicate that there are<br/>strong multicollinearity or other numerical problems."
      ],
      "text/plain": [
       "<class 'statsmodels.iolib.summary.Summary'>\n",
       "\"\"\"\n",
       "                            OLS Regression Results                            \n",
       "==============================================================================\n",
       "Dep. Variable:                      Q   R-squared:                       0.615\n",
       "Model:                            OLS   Adj. R-squared:                  0.510\n",
       "Method:                 Least Squares   F-statistic:                     5.863\n",
       "Date:                Wed, 16 Nov 2022   Prob (F-statistic):             0.0121\n",
       "Time:                        17:37:49   Log-Likelihood:                -120.63\n",
       "No. Observations:                  15   AIC:                             249.3\n",
       "Df Residuals:                      11   BIC:                             252.1\n",
       "Df Model:                           3                                         \n",
       "Covariance Type:            nonrobust                                         \n",
       "==============================================================================\n",
       "                 coef    std err          t      P>|t|      [0.025      0.975]\n",
       "------------------------------------------------------------------------------\n",
       "Intercept    511.6624   2403.931      0.213      0.835   -4779.354    5802.679\n",
       "Inc            5.9538      1.983      3.002      0.012       1.589      10.318\n",
       "Hs             1.5362      0.642      2.392      0.036       0.123       2.950\n",
       "Un          -484.7288    204.183     -2.374      0.037    -934.133     -35.324\n",
       "==============================================================================\n",
       "Omnibus:                        0.470   Durbin-Watson:                   1.641\n",
       "Prob(Omnibus):                  0.791   Jarque-Bera (JB):                0.170\n",
       "Skew:                          -0.244   Prob(JB):                        0.918\n",
       "Kurtosis:                       2.815   Cond. No.                     2.19e+04\n",
       "==============================================================================\n",
       "\n",
       "Notes:\n",
       "[1] Standard Errors assume that the covariance matrix of the errors is correctly specified.\n",
       "[2] The condition number is large, 2.19e+04. This might indicate that there are\n",
       "strong multicollinearity or other numerical problems.\n",
       "\"\"\""
      ]
     },
     "execution_count": 15,
     "metadata": {},
     "output_type": "execute_result"
    }
   ],
   "source": [
    "# estimate Model 1\n",
    "model1 = ols('Q ~ Inc + Hs + Un', dfCable).fit()\n",
    "model1.summary()"
   ]
  },
  {
   "cell_type": "markdown",
   "metadata": {},
   "source": [
    "### 3.2. Tests of disturbances of Model 1"
   ]
  },
  {
   "cell_type": "code",
   "execution_count": 16,
   "metadata": {},
   "outputs": [],
   "source": [
    "# store model residuals\n",
    "resids1 = model1.resid"
   ]
  },
  {
   "cell_type": "code",
   "execution_count": 17,
   "metadata": {
    "scrolled": true
   },
   "outputs": [
    {
     "data": {
      "image/png": "[encoded data removed]",
      "text/plain": [
       "<Figure size 432x288 with 1 Axes>"
      ]
     },
     "metadata": {
      "needs_background": "light"
     },
     "output_type": "display_data"
    }
   ],
   "source": [
    "# Visual Normality Test\n",
    "qqplot(resids1, line='s');\n",
    "\n",
    "# Jarque-Bera test results are in the summary of Model 1"
   ]
  },
  {
   "cell_type": "code",
   "execution_count": 18,
   "metadata": {},
   "outputs": [
    {
     "name": "stdout",
     "output_type": "stream",
     "text": [
      "\n",
      " --- The Breusch-Pagan test ---\n",
      "                         value\n",
      "chi^2 test statistic  3.375225\n",
      "chi^2 test p-value    0.337309\n",
      "F-test statistic      1.064608\n",
      "F-test p-value        0.403464\n"
     ]
    }
   ],
   "source": [
    "# The Breusch-Pagan heteroskedasticity test\n",
    "BPtest = pd.DataFrame(stats.diagnostic.het_breuschpagan(resids1, model1.model.exog), columns=['value'], \n",
    "                       index=['chi^2 test statistic', 'chi^2 test p-value', 'F-test statistic', 'F-test p-value'])\n",
    "\n",
    "print('\\n --- The Breusch-Pagan test ---')\n",
    "print(BPtest)"
   ]
  },
  {
   "cell_type": "code",
   "execution_count": 19,
   "metadata": {
    "scrolled": false
   },
   "outputs": [
    {
     "name": "stderr",
     "output_type": "stream",
     "text": [
      "/tmp/ipykernel_25652/3044861512.py:3: UserWarning: Matplotlib is currently using module://matplotlib_inline.backend_inline, which is a non-GUI backend, so cannot show the figure.\n",
      "  acf.show()\n"
     ]
    },
    {
     "data": {
      "image/png": "[encoded data removed]",
      "text/plain": [
       "<Figure size 432x288 with 1 Axes>"
      ]
     },
     "metadata": {
      "needs_background": "light"
     },
     "output_type": "display_data"
    }
   ],
   "source": [
    "# Graphical Autocorrelation Test\n",
    "acf = smt.graphics.plot_acf(resids1, lags=14, alpha=0.05)\n",
    "acf.show()"
   ]
  },
  {
   "cell_type": "code",
   "execution_count": 20,
   "metadata": {
    "scrolled": false
   },
   "outputs": [
    {
     "name": "stdout",
     "output_type": "stream",
     "text": [
      "\n",
      " --- The Breusch-Godfrey test ---\n",
      "                         value\n",
      "chi^2 test statistic  0.000879\n",
      "chi^2 test p-value    0.976346\n",
      "F-test statistic      0.000586\n",
      "F-test p-value        0.981161\n"
     ]
    }
   ],
   "source": [
    "# The Breusch-Godfrey autocorrelation test\n",
    "BGtest = pd.DataFrame(stats.diagnostic.acorr_breusch_godfrey(model1, nlags=1), columns=['value'], \n",
    "                       index=['chi^2 test statistic', 'chi^2 test p-value', 'F-test statistic', 'F-test p-value'])\n",
    "\n",
    "print('\\n --- The Breusch-Godfrey test ---')\n",
    "print(BGtest)"
   ]
  },
  {
   "cell_type": "markdown",
   "metadata": {},
   "source": [
    "### 3.3. Tests of the specification of Model 1"
   ]
  },
  {
   "cell_type": "code",
   "execution_count": null,
   "metadata": {},
   "outputs": [],
   "source": [
    "# discuss the goodness-of-fit of the model"
   ]
  },
  {
   "cell_type": "code",
   "execution_count": 21,
   "metadata": {},
   "outputs": [
    {
     "name": "stdout",
     "output_type": "stream",
     "text": [
      "<F test: F=1.730013158053934, p=0.23134279294042667, df_denom=9, df_num=2>\n"
     ]
    }
   ],
   "source": [
    "# The RESET test\n",
    "reset1 = reset_ramsey(model1, degree=3)\n",
    "print(reset1)"
   ]
  },
  {
   "cell_type": "code",
   "execution_count": 22,
   "metadata": {},
   "outputs": [
    {
     "data": {
      "text/html": [
       "<div>\n",
       "<style scoped>\n",
       "    .dataframe tbody tr th:only-of-type {\n",
       "        vertical-align: middle;\n",
       "    }\n",
       "\n",
       "    .dataframe tbody tr th {\n",
       "        vertical-align: top;\n",
       "    }\n",
       "\n",
       "    .dataframe thead th {\n",
       "        text-align: right;\n",
       "    }\n",
       "</style>\n",
       "<table border=\"1\" class=\"dataframe\">\n",
       "  <thead>\n",
       "    <tr style=\"text-align: right;\">\n",
       "      <th></th>\n",
       "      <th>year</th>\n",
       "      <th>Q</th>\n",
       "      <th>Inc</th>\n",
       "      <th>Hs</th>\n",
       "      <th>Un</th>\n",
       "      <th>R</th>\n",
       "    </tr>\n",
       "  </thead>\n",
       "  <tbody>\n",
       "    <tr>\n",
       "      <th>0</th>\n",
       "      <td>1968</td>\n",
       "      <td>5873</td>\n",
       "      <td>1051.8</td>\n",
       "      <td>1503.6</td>\n",
       "      <td>3.6</td>\n",
       "      <td>5.8</td>\n",
       "    </tr>\n",
       "    <tr>\n",
       "      <th>1</th>\n",
       "      <td>1969</td>\n",
       "      <td>7852</td>\n",
       "      <td>1078.8</td>\n",
       "      <td>1486.7</td>\n",
       "      <td>3.5</td>\n",
       "      <td>6.7</td>\n",
       "    </tr>\n",
       "    <tr>\n",
       "      <th>2</th>\n",
       "      <td>1970</td>\n",
       "      <td>8189</td>\n",
       "      <td>1075.3</td>\n",
       "      <td>1434.8</td>\n",
       "      <td>5.0</td>\n",
       "      <td>8.4</td>\n",
       "    </tr>\n",
       "    <tr>\n",
       "      <th>3</th>\n",
       "      <td>1971</td>\n",
       "      <td>7497</td>\n",
       "      <td>1107.5</td>\n",
       "      <td>2035.6</td>\n",
       "      <td>6.0</td>\n",
       "      <td>6.2</td>\n",
       "    </tr>\n",
       "    <tr>\n",
       "      <th>4</th>\n",
       "      <td>1972</td>\n",
       "      <td>8534</td>\n",
       "      <td>1171.1</td>\n",
       "      <td>2360.8</td>\n",
       "      <td>5.6</td>\n",
       "      <td>5.4</td>\n",
       "    </tr>\n",
       "  </tbody>\n",
       "</table>\n",
       "</div>"
      ],
      "text/plain": [
       "   year     Q     Inc      Hs   Un    R\n",
       "0  1968  5873  1051.8  1503.6  3.6  5.8\n",
       "1  1969  7852  1078.8  1486.7  3.5  6.7\n",
       "2  1970  8189  1075.3  1434.8  5.0  8.4\n",
       "3  1971  7497  1107.5  2035.6  6.0  6.2\n",
       "4  1972  8534  1171.1  2360.8  5.6  5.4"
      ]
     },
     "execution_count": 22,
     "metadata": {},
     "output_type": "execute_result"
    }
   ],
   "source": [
    "dfCable.head(5)"
   ]
  },
  {
   "cell_type": "code",
   "execution_count": 23,
   "metadata": {},
   "outputs": [
    {
     "data": {
      "text/html": [
       "<div>\n",
       "<style scoped>\n",
       "    .dataframe tbody tr th:only-of-type {\n",
       "        vertical-align: middle;\n",
       "    }\n",
       "\n",
       "    .dataframe tbody tr th {\n",
       "        vertical-align: top;\n",
       "    }\n",
       "\n",
       "    .dataframe thead th {\n",
       "        text-align: right;\n",
       "    }\n",
       "</style>\n",
       "<table border=\"1\" class=\"dataframe\">\n",
       "  <thead>\n",
       "    <tr style=\"text-align: right;\">\n",
       "      <th></th>\n",
       "      <th>regressor</th>\n",
       "      <th>VIF</th>\n",
       "    </tr>\n",
       "  </thead>\n",
       "  <tbody>\n",
       "    <tr>\n",
       "      <th>0</th>\n",
       "      <td>year</td>\n",
       "      <td>238.09</td>\n",
       "    </tr>\n",
       "    <tr>\n",
       "      <th>1</th>\n",
       "      <td>Inc</td>\n",
       "      <td>182.52</td>\n",
       "    </tr>\n",
       "    <tr>\n",
       "      <th>2</th>\n",
       "      <td>Hs</td>\n",
       "      <td>4.52</td>\n",
       "    </tr>\n",
       "    <tr>\n",
       "      <th>3</th>\n",
       "      <td>Un</td>\n",
       "      <td>15.15</td>\n",
       "    </tr>\n",
       "    <tr>\n",
       "      <th>4</th>\n",
       "      <td>R</td>\n",
       "      <td>9.89</td>\n",
       "    </tr>\n",
       "  </tbody>\n",
       "</table>\n",
       "</div>"
      ],
      "text/plain": [
       "  regressor     VIF\n",
       "0      year  238.09\n",
       "1       Inc  182.52\n",
       "2        Hs    4.52\n",
       "3        Un   15.15\n",
       "4         R    9.89"
      ]
     },
     "execution_count": 23,
     "metadata": {},
     "output_type": "execute_result"
    }
   ],
   "source": [
    "# Multicollinearity Test\n",
    "dfXX = dfCable.drop(['Q'], axis=1)\n",
    "\n",
    "dfVIFs = pd.DataFrame()\n",
    "dfVIFs['regressor'] = dfXX.columns\n",
    "dfVIFs['VIF'] = np.linalg.inv(dfXX.corr().to_numpy()).diagonal().round(2)\n",
    "dfVIFs"
   ]
  },
  {
   "cell_type": "code",
   "execution_count": 24,
   "metadata": {
    "scrolled": true
   },
   "outputs": [
    {
     "data": {
      "text/html": [
       "<div>\n",
       "<style scoped>\n",
       "    .dataframe tbody tr th:only-of-type {\n",
       "        vertical-align: middle;\n",
       "    }\n",
       "\n",
       "    .dataframe tbody tr th {\n",
       "        vertical-align: top;\n",
       "    }\n",
       "\n",
       "    .dataframe thead th {\n",
       "        text-align: right;\n",
       "    }\n",
       "</style>\n",
       "<table border=\"1\" class=\"dataframe\">\n",
       "  <thead>\n",
       "    <tr style=\"text-align: right;\">\n",
       "      <th></th>\n",
       "      <th>year</th>\n",
       "      <th>Q</th>\n",
       "      <th>Inc</th>\n",
       "      <th>Hs</th>\n",
       "      <th>Un</th>\n",
       "      <th>R</th>\n",
       "    </tr>\n",
       "  </thead>\n",
       "  <tbody>\n",
       "    <tr>\n",
       "      <th>year</th>\n",
       "      <td>1.000</td>\n",
       "      <td>0.099</td>\n",
       "      <td>0.982</td>\n",
       "      <td>-0.339</td>\n",
       "      <td>0.796</td>\n",
       "      <td>0.787</td>\n",
       "    </tr>\n",
       "    <tr>\n",
       "      <th>Q</th>\n",
       "      <td>0.099</td>\n",
       "      <td>1.000</td>\n",
       "      <td>0.194</td>\n",
       "      <td>0.537</td>\n",
       "      <td>-0.319</td>\n",
       "      <td>-0.092</td>\n",
       "    </tr>\n",
       "    <tr>\n",
       "      <th>Inc</th>\n",
       "      <td>0.982</td>\n",
       "      <td>0.194</td>\n",
       "      <td>1.000</td>\n",
       "      <td>-0.282</td>\n",
       "      <td>0.680</td>\n",
       "      <td>0.775</td>\n",
       "    </tr>\n",
       "    <tr>\n",
       "      <th>Hs</th>\n",
       "      <td>-0.339</td>\n",
       "      <td>0.537</td>\n",
       "      <td>-0.282</td>\n",
       "      <td>1.000</td>\n",
       "      <td>-0.412</td>\n",
       "      <td>-0.731</td>\n",
       "    </tr>\n",
       "    <tr>\n",
       "      <th>Un</th>\n",
       "      <td>0.796</td>\n",
       "      <td>-0.319</td>\n",
       "      <td>0.680</td>\n",
       "      <td>-0.412</td>\n",
       "      <td>1.000</td>\n",
       "      <td>0.648</td>\n",
       "    </tr>\n",
       "    <tr>\n",
       "      <th>R</th>\n",
       "      <td>0.787</td>\n",
       "      <td>-0.092</td>\n",
       "      <td>0.775</td>\n",
       "      <td>-0.731</td>\n",
       "      <td>0.648</td>\n",
       "      <td>1.000</td>\n",
       "    </tr>\n",
       "  </tbody>\n",
       "</table>\n",
       "</div>"
      ],
      "text/plain": [
       "       year      Q    Inc     Hs     Un      R\n",
       "year  1.000  0.099  0.982 -0.339  0.796  0.787\n",
       "Q     0.099  1.000  0.194  0.537 -0.319 -0.092\n",
       "Inc   0.982  0.194  1.000 -0.282  0.680  0.775\n",
       "Hs   -0.339  0.537 -0.282  1.000 -0.412 -0.731\n",
       "Un    0.796 -0.319  0.680 -0.412  1.000  0.648\n",
       "R     0.787 -0.092  0.775 -0.731  0.648  1.000"
      ]
     },
     "execution_count": 24,
     "metadata": {},
     "output_type": "execute_result"
    }
   ],
   "source": [
    "# Correlation analysis\n",
    "dfCable.corr().round(3)"
   ]
  },
  {
   "cell_type": "markdown",
   "metadata": {},
   "source": [
    "## 4. Log-log regression analysis"
   ]
  },
  {
   "cell_type": "code",
   "execution_count": 26,
   "metadata": {},
   "outputs": [],
   "source": [
    "# generate new regressors\n",
    "dfCable['logQ'] = np.log(dfCable['Q'])\n",
    "dfCable['logInc'] = np.log(dfCable['Inc'])\n",
    "dfCable['logHs'] = np.log(dfCable['Hs'])\n",
    "dfCable['logUn'] = np.log(dfCable['Un'])\n",
    "dfCable['logR'] = np.log(dfCable['R'])"
   ]
  },
  {
   "cell_type": "code",
   "execution_count": 27,
   "metadata": {},
   "outputs": [
    {
     "data": {
      "text/html": [
       "<div>\n",
       "<style scoped>\n",
       "    .dataframe tbody tr th:only-of-type {\n",
       "        vertical-align: middle;\n",
       "    }\n",
       "\n",
       "    .dataframe tbody tr th {\n",
       "        vertical-align: top;\n",
       "    }\n",
       "\n",
       "    .dataframe thead th {\n",
       "        text-align: right;\n",
       "    }\n",
       "</style>\n",
       "<table border=\"1\" class=\"dataframe\">\n",
       "  <thead>\n",
       "    <tr style=\"text-align: right;\">\n",
       "      <th></th>\n",
       "      <th>year</th>\n",
       "      <th>Q</th>\n",
       "      <th>Inc</th>\n",
       "      <th>Hs</th>\n",
       "      <th>Un</th>\n",
       "      <th>R</th>\n",
       "      <th>logQ</th>\n",
       "      <th>logInc</th>\n",
       "      <th>logHs</th>\n",
       "      <th>logUn</th>\n",
       "      <th>logR</th>\n",
       "    </tr>\n",
       "  </thead>\n",
       "  <tbody>\n",
       "    <tr>\n",
       "      <th>10</th>\n",
       "      <td>1978</td>\n",
       "      <td>9400</td>\n",
       "      <td>1399.2</td>\n",
       "      <td>2009.3</td>\n",
       "      <td>6.0</td>\n",
       "      <td>7.6</td>\n",
       "      <td>9.15</td>\n",
       "      <td>7.24</td>\n",
       "      <td>7.61</td>\n",
       "      <td>1.79</td>\n",
       "      <td>2.03</td>\n",
       "    </tr>\n",
       "    <tr>\n",
       "      <th>11</th>\n",
       "      <td>1979</td>\n",
       "      <td>9350</td>\n",
       "      <td>1431.6</td>\n",
       "      <td>1721.9</td>\n",
       "      <td>6.0</td>\n",
       "      <td>10.6</td>\n",
       "      <td>9.14</td>\n",
       "      <td>7.27</td>\n",
       "      <td>7.45</td>\n",
       "      <td>1.79</td>\n",
       "      <td>2.36</td>\n",
       "    </tr>\n",
       "    <tr>\n",
       "      <th>12</th>\n",
       "      <td>1980</td>\n",
       "      <td>6540</td>\n",
       "      <td>1480.7</td>\n",
       "      <td>1298.0</td>\n",
       "      <td>7.2</td>\n",
       "      <td>14.9</td>\n",
       "      <td>8.79</td>\n",
       "      <td>7.30</td>\n",
       "      <td>7.17</td>\n",
       "      <td>1.97</td>\n",
       "      <td>2.70</td>\n",
       "    </tr>\n",
       "    <tr>\n",
       "      <th>13</th>\n",
       "      <td>1981</td>\n",
       "      <td>7675</td>\n",
       "      <td>1510.3</td>\n",
       "      <td>1100.0</td>\n",
       "      <td>7.6</td>\n",
       "      <td>16.6</td>\n",
       "      <td>8.95</td>\n",
       "      <td>7.32</td>\n",
       "      <td>7.00</td>\n",
       "      <td>2.03</td>\n",
       "      <td>2.81</td>\n",
       "    </tr>\n",
       "    <tr>\n",
       "      <th>14</th>\n",
       "      <td>1982</td>\n",
       "      <td>7419</td>\n",
       "      <td>1492.2</td>\n",
       "      <td>1039.0</td>\n",
       "      <td>9.2</td>\n",
       "      <td>17.5</td>\n",
       "      <td>8.91</td>\n",
       "      <td>7.31</td>\n",
       "      <td>6.95</td>\n",
       "      <td>2.22</td>\n",
       "      <td>2.86</td>\n",
       "    </tr>\n",
       "  </tbody>\n",
       "</table>\n",
       "</div>"
      ],
      "text/plain": [
       "    year     Q     Inc      Hs   Un     R  logQ  logInc  logHs  logUn  logR\n",
       "10  1978  9400  1399.2  2009.3  6.0   7.6  9.15    7.24   7.61   1.79  2.03\n",
       "11  1979  9350  1431.6  1721.9  6.0  10.6  9.14    7.27   7.45   1.79  2.36\n",
       "12  1980  6540  1480.7  1298.0  7.2  14.9  8.79    7.30   7.17   1.97  2.70\n",
       "13  1981  7675  1510.3  1100.0  7.6  16.6  8.95    7.32   7.00   2.03  2.81\n",
       "14  1982  7419  1492.2  1039.0  9.2  17.5  8.91    7.31   6.95   2.22  2.86"
      ]
     },
     "execution_count": 27,
     "metadata": {},
     "output_type": "execute_result"
    }
   ],
   "source": [
    "dfCable.tail().round(2)"
   ]
  },
  {
   "cell_type": "markdown",
   "metadata": {},
   "source": [
    "### 4.1. MODEL 2: Multivariate logarithmic regression"
   ]
  },
  {
   "cell_type": "code",
   "execution_count": 28,
   "metadata": {},
   "outputs": [
    {
     "name": "stderr",
     "output_type": "stream",
     "text": [
      "/home/ina/anaconda3/lib/python3.9/site-packages/scipy/stats/stats.py:1541: UserWarning: kurtosistest only valid for n>=20 ... continuing anyway, n=15\n",
      "  warnings.warn(\"kurtosistest only valid for n>=20 ... continuing \"\n"
     ]
    },
    {
     "data": {
      "text/html": [
       "<table class=\"simpletable\">\n",
       "<caption>OLS Regression Results</caption>\n",
       "<tr>\n",
       "  <th>Dep. Variable:</th>          <td>logQ</td>       <th>  R-squared:         </th> <td>   0.733</td>\n",
       "</tr>\n",
       "<tr>\n",
       "  <th>Model:</th>                   <td>OLS</td>       <th>  Adj. R-squared:    </th> <td>   0.626</td>\n",
       "</tr>\n",
       "<tr>\n",
       "  <th>Method:</th>             <td>Least Squares</td>  <th>  F-statistic:       </th> <td>   6.856</td>\n",
       "</tr>\n",
       "<tr>\n",
       "  <th>Date:</th>             <td>Wed, 16 Nov 2022</td> <th>  Prob (F-statistic):</th>  <td>0.00635</td>\n",
       "</tr>\n",
       "<tr>\n",
       "  <th>Time:</th>                 <td>17:38:22</td>     <th>  Log-Likelihood:    </th> <td>  15.177</td>\n",
       "</tr>\n",
       "<tr>\n",
       "  <th>No. Observations:</th>      <td>    15</td>      <th>  AIC:               </th> <td>  -20.35</td>\n",
       "</tr>\n",
       "<tr>\n",
       "  <th>Df Residuals:</th>          <td>    10</td>      <th>  BIC:               </th> <td>  -16.81</td>\n",
       "</tr>\n",
       "<tr>\n",
       "  <th>Df Model:</th>              <td>     4</td>      <th>                     </th>     <td> </td>   \n",
       "</tr>\n",
       "<tr>\n",
       "  <th>Covariance Type:</th>      <td>nonrobust</td>    <th>                     </th>     <td> </td>   \n",
       "</tr>\n",
       "</table>\n",
       "<table class=\"simpletable\">\n",
       "<tr>\n",
       "      <td></td>         <th>coef</th>     <th>std err</th>      <th>t</th>      <th>P>|t|</th>  <th>[0.025</th>    <th>0.975]</th>  \n",
       "</tr>\n",
       "<tr>\n",
       "  <th>Intercept</th> <td>    1.5000</td> <td>    2.536</td> <td>    0.591</td> <td> 0.567</td> <td>   -4.151</td> <td>    7.151</td>\n",
       "</tr>\n",
       "<tr>\n",
       "  <th>logInc</th>    <td>   -0.1065</td> <td>    0.565</td> <td>   -0.189</td> <td> 0.854</td> <td>   -1.365</td> <td>    1.152</td>\n",
       "</tr>\n",
       "<tr>\n",
       "  <th>logHs</th>     <td>    1.0033</td> <td>    0.282</td> <td>    3.561</td> <td> 0.005</td> <td>    0.375</td> <td>    1.631</td>\n",
       "</tr>\n",
       "<tr>\n",
       "  <th>logUn</th>     <td>   -0.3457</td> <td>    0.150</td> <td>   -2.310</td> <td> 0.043</td> <td>   -0.679</td> <td>   -0.012</td>\n",
       "</tr>\n",
       "<tr>\n",
       "  <th>logR</th>      <td>    0.6611</td> <td>    0.261</td> <td>    2.536</td> <td> 0.030</td> <td>    0.080</td> <td>    1.242</td>\n",
       "</tr>\n",
       "</table>\n",
       "<table class=\"simpletable\">\n",
       "<tr>\n",
       "  <th>Omnibus:</th>       <td> 7.603</td> <th>  Durbin-Watson:     </th> <td>   1.999</td>\n",
       "</tr>\n",
       "<tr>\n",
       "  <th>Prob(Omnibus):</th> <td> 0.022</td> <th>  Jarque-Bera (JB):  </th> <td>   4.321</td>\n",
       "</tr>\n",
       "<tr>\n",
       "  <th>Skew:</th>          <td>-1.216</td> <th>  Prob(JB):          </th> <td>   0.115</td>\n",
       "</tr>\n",
       "<tr>\n",
       "  <th>Kurtosis:</th>      <td> 4.001</td> <th>  Cond. No.          </th> <td>    988.</td>\n",
       "</tr>\n",
       "</table><br/><br/>Notes:<br/>[1] Standard Errors assume that the covariance matrix of the errors is correctly specified."
      ],
      "text/plain": [
       "<class 'statsmodels.iolib.summary.Summary'>\n",
       "\"\"\"\n",
       "                            OLS Regression Results                            \n",
       "==============================================================================\n",
       "Dep. Variable:                   logQ   R-squared:                       0.733\n",
       "Model:                            OLS   Adj. R-squared:                  0.626\n",
       "Method:                 Least Squares   F-statistic:                     6.856\n",
       "Date:                Wed, 16 Nov 2022   Prob (F-statistic):            0.00635\n",
       "Time:                        17:38:22   Log-Likelihood:                 15.177\n",
       "No. Observations:                  15   AIC:                            -20.35\n",
       "Df Residuals:                      10   BIC:                            -16.81\n",
       "Df Model:                           4                                         \n",
       "Covariance Type:            nonrobust                                         \n",
       "==============================================================================\n",
       "                 coef    std err          t      P>|t|      [0.025      0.975]\n",
       "------------------------------------------------------------------------------\n",
       "Intercept      1.5000      2.536      0.591      0.567      -4.151       7.151\n",
       "logInc        -0.1065      0.565     -0.189      0.854      -1.365       1.152\n",
       "logHs          1.0033      0.282      3.561      0.005       0.375       1.631\n",
       "logUn         -0.3457      0.150     -2.310      0.043      -0.679      -0.012\n",
       "logR           0.6611      0.261      2.536      0.030       0.080       1.242\n",
       "==============================================================================\n",
       "Omnibus:                        7.603   Durbin-Watson:                   1.999\n",
       "Prob(Omnibus):                  0.022   Jarque-Bera (JB):                4.321\n",
       "Skew:                          -1.216   Prob(JB):                        0.115\n",
       "Kurtosis:                       4.001   Cond. No.                         988.\n",
       "==============================================================================\n",
       "\n",
       "Notes:\n",
       "[1] Standard Errors assume that the covariance matrix of the errors is correctly specified.\n",
       "\"\"\""
      ]
     },
     "execution_count": 28,
     "metadata": {},
     "output_type": "execute_result"
    }
   ],
   "source": [
    "# estimate Model 2\n",
    "model2 = ols('logQ ~ logInc + logHs + logUn + logR', dfCable).fit()\n",
    "model2.summary()"
   ]
  },
  {
   "cell_type": "markdown",
   "metadata": {},
   "source": [
    "### 4.2. Tests of disturbances of Model 2"
   ]
  },
  {
   "cell_type": "code",
   "execution_count": 29,
   "metadata": {},
   "outputs": [],
   "source": [
    "# store model residuals\n",
    "resids2 = model2.resid"
   ]
  },
  {
   "cell_type": "code",
   "execution_count": 30,
   "metadata": {},
   "outputs": [
    {
     "data": {
      "image/png": "[encoded data removed]",
      "text/plain": [
       "<Figure size 432x288 with 1 Axes>"
      ]
     },
     "metadata": {
      "needs_background": "light"
     },
     "output_type": "display_data"
    }
   ],
   "source": [
    "# Visual Normality Test\n",
    "qqplot(resids2, line='s');\n",
    "\n",
    "# Jarque-Bera test results are in the summary of Model 1"
   ]
  },
  {
   "cell_type": "code",
   "execution_count": 31,
   "metadata": {},
   "outputs": [
    {
     "name": "stdout",
     "output_type": "stream",
     "text": [
      "\n",
      " --- The Breusch-Pagan test ---\n",
      "                         value\n",
      "chi^2 test statistic  3.282089\n",
      "chi^2 test p-value    0.511775\n",
      "F-test statistic      0.700229\n",
      "F-test p-value        0.609225\n"
     ]
    }
   ],
   "source": [
    "# The Breusch-Pagan heteroskedasticity test\n",
    "BPtest = pd.DataFrame(stats.diagnostic.het_breuschpagan(resids2, model2.model.exog), columns=['value'], \n",
    "                       index=['chi^2 test statistic', 'chi^2 test p-value', 'F-test statistic', 'F-test p-value'])\n",
    "\n",
    "print('\\n --- The Breusch-Pagan test ---')\n",
    "print(BPtest)"
   ]
  },
  {
   "cell_type": "code",
   "execution_count": 32,
   "metadata": {
    "scrolled": false
   },
   "outputs": [
    {
     "name": "stderr",
     "output_type": "stream",
     "text": [
      "/tmp/ipykernel_25652/3107572302.py:3: UserWarning: Matplotlib is currently using module://matplotlib_inline.backend_inline, which is a non-GUI backend, so cannot show the figure.\n",
      "  acf.show()\n"
     ]
    },
    {
     "data": {
      "image/png": "[encoded data removed]",
      "text/plain": [
       "<Figure size 432x288 with 1 Axes>"
      ]
     },
     "metadata": {
      "needs_background": "light"
     },
     "output_type": "display_data"
    }
   ],
   "source": [
    "# Graphical Autocorrelation Test\n",
    "acf = smt.graphics.plot_acf(resids2, lags=6, alpha=0.05)\n",
    "acf.show()"
   ]
  },
  {
   "cell_type": "code",
   "execution_count": 33,
   "metadata": {
    "scrolled": false
   },
   "outputs": [
    {
     "name": "stdout",
     "output_type": "stream",
     "text": [
      "\n",
      " --- The Breusch-Godfrey test ---\n",
      "                         value\n",
      "chi^2 test statistic  8.373758\n",
      "chi^2 test p-value    0.015194\n",
      "F-test statistic      5.054906\n",
      "F-test p-value        0.038081\n"
     ]
    }
   ],
   "source": [
    "# The Breusch-Godfrey autocorrelation test\n",
    "BGtest = pd.DataFrame(stats.diagnostic.acorr_breusch_godfrey(model2, nlags=2), columns=['value'], \n",
    "                       index=['chi^2 test statistic', 'chi^2 test p-value', 'F-test statistic', 'F-test p-value'])\n",
    "\n",
    "print('\\n --- The Breusch-Godfrey test ---')\n",
    "print(BGtest)"
   ]
  },
  {
   "cell_type": "markdown",
   "metadata": {},
   "source": [
    "### 4.3. Tests of the specification of Model 2"
   ]
  },
  {
   "cell_type": "code",
   "execution_count": 34,
   "metadata": {},
   "outputs": [
    {
     "name": "stdout",
     "output_type": "stream",
     "text": [
      "<F test: F=0.2777636302228359, p=0.7644917978511134, df_denom=8, df_num=2>\n"
     ]
    }
   ],
   "source": [
    "# The RESET test\n",
    "reset2 = reset_ramsey(model2, degree=3)\n",
    "print(reset2)"
   ]
  },
  {
   "cell_type": "code",
   "execution_count": 35,
   "metadata": {},
   "outputs": [
    {
     "data": {
      "text/html": [
       "<div>\n",
       "<style scoped>\n",
       "    .dataframe tbody tr th:only-of-type {\n",
       "        vertical-align: middle;\n",
       "    }\n",
       "\n",
       "    .dataframe tbody tr th {\n",
       "        vertical-align: top;\n",
       "    }\n",
       "\n",
       "    .dataframe thead th {\n",
       "        text-align: right;\n",
       "    }\n",
       "</style>\n",
       "<table border=\"1\" class=\"dataframe\">\n",
       "  <thead>\n",
       "    <tr style=\"text-align: right;\">\n",
       "      <th></th>\n",
       "      <th>regressor</th>\n",
       "      <th>VIF</th>\n",
       "    </tr>\n",
       "  </thead>\n",
       "  <tbody>\n",
       "    <tr>\n",
       "      <th>0</th>\n",
       "      <td>logInc</td>\n",
       "      <td>6.20</td>\n",
       "    </tr>\n",
       "    <tr>\n",
       "      <th>1</th>\n",
       "      <td>logHs</td>\n",
       "      <td>6.06</td>\n",
       "    </tr>\n",
       "    <tr>\n",
       "      <th>2</th>\n",
       "      <td>logUn</td>\n",
       "      <td>2.15</td>\n",
       "    </tr>\n",
       "    <tr>\n",
       "      <th>3</th>\n",
       "      <td>logR</td>\n",
       "      <td>12.29</td>\n",
       "    </tr>\n",
       "  </tbody>\n",
       "</table>\n",
       "</div>"
      ],
      "text/plain": [
       "  regressor    VIF\n",
       "0    logInc   6.20\n",
       "1     logHs   6.06\n",
       "2     logUn   2.15\n",
       "3      logR  12.29"
      ]
     },
     "execution_count": 35,
     "metadata": {},
     "output_type": "execute_result"
    }
   ],
   "source": [
    "# Multicollinearity Test\n",
    "dfXXlog = dfCable.drop(['year', 'Q', 'Inc', 'Hs', 'Un', 'R', 'logQ'], axis=1)\n",
    "\n",
    "dfVIFslog = pd.DataFrame()\n",
    "dfVIFslog['regressor'] = dfXXlog.columns\n",
    "dfVIFslog['VIF'] = np.linalg.inv(dfXXlog.corr().to_numpy()).diagonal().round(2)\n",
    "dfVIFslog"
   ]
  },
  {
   "cell_type": "code",
   "execution_count": 36,
   "metadata": {
    "scrolled": false
   },
   "outputs": [
    {
     "data": {
      "text/html": [
       "<div>\n",
       "<style scoped>\n",
       "    .dataframe tbody tr th:only-of-type {\n",
       "        vertical-align: middle;\n",
       "    }\n",
       "\n",
       "    .dataframe tbody tr th {\n",
       "        vertical-align: top;\n",
       "    }\n",
       "\n",
       "    .dataframe thead th {\n",
       "        text-align: right;\n",
       "    }\n",
       "</style>\n",
       "<table border=\"1\" class=\"dataframe\">\n",
       "  <thead>\n",
       "    <tr style=\"text-align: right;\">\n",
       "      <th></th>\n",
       "      <th>logInc</th>\n",
       "      <th>logHs</th>\n",
       "      <th>logUn</th>\n",
       "      <th>logR</th>\n",
       "    </tr>\n",
       "  </thead>\n",
       "  <tbody>\n",
       "    <tr>\n",
       "      <th>logInc</th>\n",
       "      <td>1.000</td>\n",
       "      <td>-0.298</td>\n",
       "      <td>0.709</td>\n",
       "      <td>0.749</td>\n",
       "    </tr>\n",
       "    <tr>\n",
       "      <th>logHs</th>\n",
       "      <td>-0.298</td>\n",
       "      <td>1.000</td>\n",
       "      <td>-0.376</td>\n",
       "      <td>-0.793</td>\n",
       "    </tr>\n",
       "    <tr>\n",
       "      <th>logUn</th>\n",
       "      <td>0.709</td>\n",
       "      <td>-0.376</td>\n",
       "      <td>1.000</td>\n",
       "      <td>0.620</td>\n",
       "    </tr>\n",
       "    <tr>\n",
       "      <th>logR</th>\n",
       "      <td>0.749</td>\n",
       "      <td>-0.793</td>\n",
       "      <td>0.620</td>\n",
       "      <td>1.000</td>\n",
       "    </tr>\n",
       "  </tbody>\n",
       "</table>\n",
       "</div>"
      ],
      "text/plain": [
       "        logInc  logHs  logUn   logR\n",
       "logInc   1.000 -0.298  0.709  0.749\n",
       "logHs   -0.298  1.000 -0.376 -0.793\n",
       "logUn    0.709 -0.376  1.000  0.620\n",
       "logR     0.749 -0.793  0.620  1.000"
      ]
     },
     "execution_count": 36,
     "metadata": {},
     "output_type": "execute_result"
    }
   ],
   "source": [
    "# Correlation analysis\n",
    "dfXXlog.corr().round(3)"
   ]
  },
  {
   "cell_type": "markdown",
   "metadata": {},
   "source": [
    "### 4.4. Tests of the coefficients of Model 2"
   ]
  },
  {
   "cell_type": "code",
   "execution_count": null,
   "metadata": {},
   "outputs": [],
   "source": [
    "# Discuss the summary of Model 2:\n",
    "# * signs and significance of the coefficients\n",
    "# * overall significance of the model"
   ]
  },
  {
   "cell_type": "code",
   "execution_count": 43,
   "metadata": {},
   "outputs": [
    {
     "name": "stdout",
     "output_type": "stream",
     "text": [
      "<F test: F=7.4826064623263076, p=0.010311542302772007, df_denom=10, df_num=2>\n"
     ]
    }
   ],
   "source": [
    "# linear hypotheses test for group (in)significance\n",
    "linHypothesis2 = '(logHs = logR), (logR = 0)'\n",
    "print(model2.f_test(linHypothesis2))"
   ]
  },
  {
   "cell_type": "code",
   "execution_count": 55,
   "metadata": {},
   "outputs": [
    {
     "name": "stdout",
     "output_type": "stream",
     "text": [
      "<F test: F=40.603687726675815, p=8.11779964338339e-05, df_denom=10, df_num=1>\n"
     ]
    }
   ],
   "source": [
    "# linear hypotheses test of price elasticity\n",
    "linHypothesis3 = '(logR = -1)'\n",
    "print(model2.f_test(linHypothesis3))"
   ]
  },
  {
   "cell_type": "code",
   "execution_count": 54,
   "metadata": {},
   "outputs": [
    {
     "name": "stdout",
     "output_type": "stream",
     "text": [
      "<F test: F=3.8376752787930117, p=0.07856672159117147, df_denom=10, df_num=1>\n"
     ]
    }
   ],
   "source": [
    "# linear hypotheses test of income elasticity\n",
    "linHypothesis4 = '(logInc = 1)'\n",
    "print(model2.f_test(linHypothesis4))"
   ]
  },
  {
   "cell_type": "markdown",
   "metadata": {},
   "source": [
    "## 5. Optimized logarithmic model"
   ]
  },
  {
   "cell_type": "code",
   "execution_count": 37,
   "metadata": {},
   "outputs": [
    {
     "name": "stderr",
     "output_type": "stream",
     "text": [
      "/home/ina/anaconda3/lib/python3.9/site-packages/scipy/stats/stats.py:1541: UserWarning: kurtosistest only valid for n>=20 ... continuing anyway, n=15\n",
      "  warnings.warn(\"kurtosistest only valid for n>=20 ... continuing \"\n"
     ]
    },
    {
     "data": {
      "text/html": [
       "<table class=\"simpletable\">\n",
       "<caption>OLS Regression Results</caption>\n",
       "<tr>\n",
       "  <th>Dep. Variable:</th>          <td>logQ</td>       <th>  R-squared:         </th> <td>   0.561</td>\n",
       "</tr>\n",
       "<tr>\n",
       "  <th>Model:</th>                   <td>OLS</td>       <th>  Adj. R-squared:    </th> <td>   0.441</td>\n",
       "</tr>\n",
       "<tr>\n",
       "  <th>Method:</th>             <td>Least Squares</td>  <th>  F-statistic:       </th> <td>   4.684</td>\n",
       "</tr>\n",
       "<tr>\n",
       "  <th>Date:</th>             <td>Wed, 16 Nov 2022</td> <th>  Prob (F-statistic):</th>  <td>0.0242</td> \n",
       "</tr>\n",
       "<tr>\n",
       "  <th>Time:</th>                 <td>17:38:49</td>     <th>  Log-Likelihood:    </th> <td>  11.453</td>\n",
       "</tr>\n",
       "<tr>\n",
       "  <th>No. Observations:</th>      <td>    15</td>      <th>  AIC:               </th> <td>  -14.91</td>\n",
       "</tr>\n",
       "<tr>\n",
       "  <th>Df Residuals:</th>          <td>    11</td>      <th>  BIC:               </th> <td>  -12.07</td>\n",
       "</tr>\n",
       "<tr>\n",
       "  <th>Df Model:</th>              <td>     3</td>      <th>                     </th>     <td> </td>   \n",
       "</tr>\n",
       "<tr>\n",
       "  <th>Covariance Type:</th>      <td>nonrobust</td>    <th>                     </th>     <td> </td>   \n",
       "</tr>\n",
       "</table>\n",
       "<table class=\"simpletable\">\n",
       "<tr>\n",
       "      <td></td>         <th>coef</th>     <th>std err</th>      <th>t</th>      <th>P>|t|</th>  <th>[0.025</th>    <th>0.975]</th>  \n",
       "</tr>\n",
       "<tr>\n",
       "  <th>Intercept</th> <td>   -0.7160</td> <td>    2.910</td> <td>   -0.246</td> <td> 0.810</td> <td>   -7.121</td> <td>    5.689</td>\n",
       "</tr>\n",
       "<tr>\n",
       "  <th>logInc</th>    <td>    1.0706</td> <td>    0.393</td> <td>    2.721</td> <td> 0.020</td> <td>    0.205</td> <td>    1.936</td>\n",
       "</tr>\n",
       "<tr>\n",
       "  <th>logHs</th>     <td>    0.3612</td> <td>    0.151</td> <td>    2.390</td> <td> 0.036</td> <td>    0.029</td> <td>    0.694</td>\n",
       "</tr>\n",
       "<tr>\n",
       "  <th>logUn</th>     <td>   -0.3743</td> <td>    0.182</td> <td>   -2.052</td> <td> 0.065</td> <td>   -0.776</td> <td>    0.027</td>\n",
       "</tr>\n",
       "</table>\n",
       "<table class=\"simpletable\">\n",
       "<tr>\n",
       "  <th>Omnibus:</th>       <td> 0.169</td> <th>  Durbin-Watson:     </th> <td>   1.461</td>\n",
       "</tr>\n",
       "<tr>\n",
       "  <th>Prob(Omnibus):</th> <td> 0.919</td> <th>  Jarque-Bera (JB):  </th> <td>   0.128</td>\n",
       "</tr>\n",
       "<tr>\n",
       "  <th>Skew:</th>          <td>-0.150</td> <th>  Prob(JB):          </th> <td>   0.938</td>\n",
       "</tr>\n",
       "<tr>\n",
       "  <th>Kurtosis:</th>      <td> 2.662</td> <th>  Cond. No.          </th> <td>    902.</td>\n",
       "</tr>\n",
       "</table><br/><br/>Notes:<br/>[1] Standard Errors assume that the covariance matrix of the errors is correctly specified."
      ],
      "text/plain": [
       "<class 'statsmodels.iolib.summary.Summary'>\n",
       "\"\"\"\n",
       "                            OLS Regression Results                            \n",
       "==============================================================================\n",
       "Dep. Variable:                   logQ   R-squared:                       0.561\n",
       "Model:                            OLS   Adj. R-squared:                  0.441\n",
       "Method:                 Least Squares   F-statistic:                     4.684\n",
       "Date:                Wed, 16 Nov 2022   Prob (F-statistic):             0.0242\n",
       "Time:                        17:38:49   Log-Likelihood:                 11.453\n",
       "No. Observations:                  15   AIC:                            -14.91\n",
       "Df Residuals:                      11   BIC:                            -12.07\n",
       "Df Model:                           3                                         \n",
       "Covariance Type:            nonrobust                                         \n",
       "==============================================================================\n",
       "                 coef    std err          t      P>|t|      [0.025      0.975]\n",
       "------------------------------------------------------------------------------\n",
       "Intercept     -0.7160      2.910     -0.246      0.810      -7.121       5.689\n",
       "logInc         1.0706      0.393      2.721      0.020       0.205       1.936\n",
       "logHs          0.3612      0.151      2.390      0.036       0.029       0.694\n",
       "logUn         -0.3743      0.182     -2.052      0.065      -0.776       0.027\n",
       "==============================================================================\n",
       "Omnibus:                        0.169   Durbin-Watson:                   1.461\n",
       "Prob(Omnibus):                  0.919   Jarque-Bera (JB):                0.128\n",
       "Skew:                          -0.150   Prob(JB):                        0.938\n",
       "Kurtosis:                       2.662   Cond. No.                         902.\n",
       "==============================================================================\n",
       "\n",
       "Notes:\n",
       "[1] Standard Errors assume that the covariance matrix of the errors is correctly specified.\n",
       "\"\"\""
      ]
     },
     "execution_count": 37,
     "metadata": {},
     "output_type": "execute_result"
    }
   ],
   "source": [
    "# estimate Model 3\n",
    "model3 = ols('logQ ~ logInc + logHs + logUn', dfCable).fit()\n",
    "model3.summary()"
   ]
  },
  {
   "cell_type": "code",
   "execution_count": 38,
   "metadata": {},
   "outputs": [
    {
     "name": "stderr",
     "output_type": "stream",
     "text": [
      "/home/ina/anaconda3/lib/python3.9/site-packages/scipy/stats/stats.py:1541: UserWarning: kurtosistest only valid for n>=20 ... continuing anyway, n=15\n",
      "  warnings.warn(\"kurtosistest only valid for n>=20 ... continuing \"\n"
     ]
    },
    {
     "data": {
      "text/html": [
       "<table class=\"simpletable\">\n",
       "<caption>OLS Regression Results</caption>\n",
       "<tr>\n",
       "  <th>Dep. Variable:</th>          <td>logQ</td>       <th>  R-squared:         </th> <td>   0.733</td>\n",
       "</tr>\n",
       "<tr>\n",
       "  <th>Model:</th>                   <td>OLS</td>       <th>  Adj. R-squared:    </th> <td>   0.626</td>\n",
       "</tr>\n",
       "<tr>\n",
       "  <th>Method:</th>             <td>Least Squares</td>  <th>  F-statistic:       </th> <td>   6.856</td>\n",
       "</tr>\n",
       "<tr>\n",
       "  <th>Date:</th>             <td>Wed, 16 Nov 2022</td> <th>  Prob (F-statistic):</th>  <td>0.00635</td>\n",
       "</tr>\n",
       "<tr>\n",
       "  <th>Time:</th>                 <td>17:38:54</td>     <th>  Log-Likelihood:    </th> <td>  15.177</td>\n",
       "</tr>\n",
       "<tr>\n",
       "  <th>No. Observations:</th>      <td>    15</td>      <th>  AIC:               </th> <td>  -20.35</td>\n",
       "</tr>\n",
       "<tr>\n",
       "  <th>Df Residuals:</th>          <td>    10</td>      <th>  BIC:               </th> <td>  -16.81</td>\n",
       "</tr>\n",
       "<tr>\n",
       "  <th>Df Model:</th>              <td>     4</td>      <th>                     </th>     <td> </td>   \n",
       "</tr>\n",
       "<tr>\n",
       "  <th>Covariance Type:</th>      <td>nonrobust</td>    <th>                     </th>     <td> </td>   \n",
       "</tr>\n",
       "</table>\n",
       "<table class=\"simpletable\">\n",
       "<tr>\n",
       "      <td></td>         <th>coef</th>     <th>std err</th>      <th>t</th>      <th>P>|t|</th>  <th>[0.025</th>    <th>0.975]</th>  \n",
       "</tr>\n",
       "<tr>\n",
       "  <th>Intercept</th> <td>    1.5000</td> <td>    2.536</td> <td>    0.591</td> <td> 0.567</td> <td>   -4.151</td> <td>    7.151</td>\n",
       "</tr>\n",
       "<tr>\n",
       "  <th>logInc</th>    <td>   -0.1065</td> <td>    0.565</td> <td>   -0.189</td> <td> 0.854</td> <td>   -1.365</td> <td>    1.152</td>\n",
       "</tr>\n",
       "<tr>\n",
       "  <th>logHs</th>     <td>    1.0033</td> <td>    0.282</td> <td>    3.561</td> <td> 0.005</td> <td>    0.375</td> <td>    1.631</td>\n",
       "</tr>\n",
       "<tr>\n",
       "  <th>logUn</th>     <td>   -0.3457</td> <td>    0.150</td> <td>   -2.310</td> <td> 0.043</td> <td>   -0.679</td> <td>   -0.012</td>\n",
       "</tr>\n",
       "<tr>\n",
       "  <th>logR</th>      <td>    0.6611</td> <td>    0.261</td> <td>    2.536</td> <td> 0.030</td> <td>    0.080</td> <td>    1.242</td>\n",
       "</tr>\n",
       "</table>\n",
       "<table class=\"simpletable\">\n",
       "<tr>\n",
       "  <th>Omnibus:</th>       <td> 7.603</td> <th>  Durbin-Watson:     </th> <td>   1.999</td>\n",
       "</tr>\n",
       "<tr>\n",
       "  <th>Prob(Omnibus):</th> <td> 0.022</td> <th>  Jarque-Bera (JB):  </th> <td>   4.321</td>\n",
       "</tr>\n",
       "<tr>\n",
       "  <th>Skew:</th>          <td>-1.216</td> <th>  Prob(JB):          </th> <td>   0.115</td>\n",
       "</tr>\n",
       "<tr>\n",
       "  <th>Kurtosis:</th>      <td> 4.001</td> <th>  Cond. No.          </th> <td>    988.</td>\n",
       "</tr>\n",
       "</table><br/><br/>Notes:<br/>[1] Standard Errors assume that the covariance matrix of the errors is correctly specified."
      ],
      "text/plain": [
       "<class 'statsmodels.iolib.summary.Summary'>\n",
       "\"\"\"\n",
       "                            OLS Regression Results                            \n",
       "==============================================================================\n",
       "Dep. Variable:                   logQ   R-squared:                       0.733\n",
       "Model:                            OLS   Adj. R-squared:                  0.626\n",
       "Method:                 Least Squares   F-statistic:                     6.856\n",
       "Date:                Wed, 16 Nov 2022   Prob (F-statistic):            0.00635\n",
       "Time:                        17:38:54   Log-Likelihood:                 15.177\n",
       "No. Observations:                  15   AIC:                            -20.35\n",
       "Df Residuals:                      10   BIC:                            -16.81\n",
       "Df Model:                           4                                         \n",
       "Covariance Type:            nonrobust                                         \n",
       "==============================================================================\n",
       "                 coef    std err          t      P>|t|      [0.025      0.975]\n",
       "------------------------------------------------------------------------------\n",
       "Intercept      1.5000      2.536      0.591      0.567      -4.151       7.151\n",
       "logInc        -0.1065      0.565     -0.189      0.854      -1.365       1.152\n",
       "logHs          1.0033      0.282      3.561      0.005       0.375       1.631\n",
       "logUn         -0.3457      0.150     -2.310      0.043      -0.679      -0.012\n",
       "logR           0.6611      0.261      2.536      0.030       0.080       1.242\n",
       "==============================================================================\n",
       "Omnibus:                        7.603   Durbin-Watson:                   1.999\n",
       "Prob(Omnibus):                  0.022   Jarque-Bera (JB):                4.321\n",
       "Skew:                          -1.216   Prob(JB):                        0.115\n",
       "Kurtosis:                       4.001   Cond. No.                         988.\n",
       "==============================================================================\n",
       "\n",
       "Notes:\n",
       "[1] Standard Errors assume that the covariance matrix of the errors is correctly specified.\n",
       "\"\"\""
      ]
     },
     "execution_count": 38,
     "metadata": {},
     "output_type": "execute_result"
    }
   ],
   "source": [
    "# compare with Model 3 with Model 2\n",
    "model2.summary()"
   ]
  },
  {
   "cell_type": "markdown",
   "metadata": {},
   "source": [
    "## 6. Predictions"
   ]
  },
  {
   "cell_type": "markdown",
   "metadata": {},
   "source": [
    "Let's say we know that in 1983 the values of our two variables were the following:\n",
    "\n",
    "- Pc = 69.3\n",
    "- Inc = 2567.7"
   ]
  },
  {
   "cell_type": "code",
   "execution_count": 51,
   "metadata": {},
   "outputs": [
    {
     "data": {
      "text/html": [
       "<div>\n",
       "<style scoped>\n",
       "    .dataframe tbody tr th:only-of-type {\n",
       "        vertical-align: middle;\n",
       "    }\n",
       "\n",
       "    .dataframe tbody tr th {\n",
       "        vertical-align: top;\n",
       "    }\n",
       "\n",
       "    .dataframe thead th {\n",
       "        text-align: right;\n",
       "    }\n",
       "</style>\n",
       "<table border=\"1\" class=\"dataframe\">\n",
       "  <thead>\n",
       "    <tr style=\"text-align: right;\">\n",
       "      <th></th>\n",
       "      <th>Q</th>\n",
       "      <th>Inc</th>\n",
       "      <th>Hs</th>\n",
       "      <th>Un</th>\n",
       "    </tr>\n",
       "  </thead>\n",
       "  <tbody>\n",
       "    <tr>\n",
       "      <th>0</th>\n",
       "      <td>7923.0</td>\n",
       "      <td>1535.4</td>\n",
       "      <td>1200.0</td>\n",
       "      <td>8.8</td>\n",
       "    </tr>\n",
       "  </tbody>\n",
       "</table>\n",
       "</div>"
      ],
      "text/plain": [
       "        Q     Inc      Hs   Un\n",
       "0  7923.0  1535.4  1200.0  8.8"
      ]
     },
     "execution_count": 51,
     "metadata": {},
     "output_type": "execute_result"
    }
   ],
   "source": [
    "# make a data-frame\n",
    "dfCable = pd.DataFrame({'Q': [7923.0],\n",
    "                        'Inc': [1535.4],\n",
    "                       'Hs' : [1200.0],\n",
    "                       'Un':[8.8]})\n",
    "dfCable"
   ]
  },
  {
   "cell_type": "code",
   "execution_count": 52,
   "metadata": {},
   "outputs": [
    {
     "name": "stdout",
     "output_type": "stream",
     "text": [
      "      mean  mean_se  mean_ci_lower  mean_ci_upper  obs_ci_lower  obs_ci_upper\n",
      "0  7230.91   477.97         6178.9        8282.91       5029.49       9432.32\n"
     ]
    }
   ],
   "source": [
    "# obtain a forecast\n",
    "print(model1.get_prediction(dfCable, weights=1).summary_frame(alpha=0.05).round(2))"
   ]
  },
  {
   "cell_type": "code",
   "execution_count": 53,
   "metadata": {},
   "outputs": [
    {
     "name": "stderr",
     "output_type": "stream",
     "text": [
      "/tmp/ipykernel_25652/2253734278.py:2: RuntimeWarning: overflow encountered in exp\n",
      "  np.exp(7230.91).round(3)\n"
     ]
    },
    {
     "data": {
      "text/plain": [
       "inf"
      ]
     },
     "execution_count": 53,
     "metadata": {},
     "output_type": "execute_result"
    }
   ],
   "source": [
    "# calculate the exponent of the forecast\n",
    "np.exp(7230.91).round(3)"
   ]
  }
 ],
 "metadata": {
  "kernelspec": {
   "display_name": "Python 3 (ipykernel)",
   "language": "python",
   "name": "python3"
  },
  "language_info": {
   "codemirror_mode": {
    "name": "ipython",
    "version": 3
   },
   "file_extension": ".py",
   "mimetype": "text/x-python",
   "name": "python",
   "nbconvert_exporter": "python",
   "pygments_lexer": "ipython3",
   "version": "3.9.12"
  },
  "varInspector": {
   "cols": {
    "lenName": 16,
    "lenType": 16,
    "lenVar": 40
   },
   "kernels_config": {
    "python": {
     "delete_cmd_postfix": "",
     "delete_cmd_prefix": "del ",
     "library": "var_list.py",
     "varRefreshCmd": "print(var_dic_list())"
    },
    "r": {
     "delete_cmd_postfix": ") ",
     "delete_cmd_prefix": "rm(",
     "library": "var_list.r",
     "varRefreshCmd": "cat(var_dic_list()) "
    }
   },
   "oldHeight": 273,
   "position": {
    "height": "295px",
    "left": "723.983px",
    "right": "20px",
    "top": "58.9833px",
    "width": "350px"
   },
   "types_to_exclude": [
    "module",
    "function",
    "builtin_function_or_method",
    "instance",
    "_Feature"
   ],
   "varInspector_section_display": "block",
   "window_display": false
  }
 },
 "nbformat": 4,
 "nbformat_minor": 2
}
