{
 "cells": [
  {
   "cell_type": "markdown",
   "metadata": {},
   "source": [
    "# Swiss cantons of the 19th century"
   ]
  },
  {
   "cell_type": "markdown",
   "metadata": {},
   "source": [
    "## Load libraries and functions"
   ]
  },
  {
   "cell_type": "code",
   "execution_count": 1,
   "metadata": {},
   "outputs": [],
   "source": [
    "# traditional packages\n",
    "import pandas as pd\n",
    "import numpy as np\n",
    "import matplotlib.pyplot as plt\n",
    "\n",
    "\n",
    "# for PCA\n",
    "from sklearn.decomposition import PCA as skPCA\n",
    "from sklearn.preprocessing import StandardScaler\n",
    "from factor_analyzer.factor_analyzer import calculate_kmo\n",
    "from factor_analyzer.factor_analyzer import calculate_bartlett_sphericity\n",
    "\n",
    "# for hierarchical cluster analysis\n",
    "from scipy.cluster.hierarchy import dendrogram, linkage, cut_tree"
   ]
  },
  {
   "cell_type": "code",
   "execution_count": 2,
   "metadata": {},
   "outputs": [],
   "source": [
    "# function for making histograms\n",
    "def myHist(xname, mybins=10):\n",
    "    pd_x = pd.Series(dfSwiss[xname])\n",
    "\n",
    "    # histogram\n",
    "    pd_x.plot.hist(grid=True, bins=mybins, rwidth=0.9, color='lightblue')\n",
    "    plt.title('Histogram for ' + xname)\n",
    "    plt.xlabel('')\n",
    "    plt.ylabel('')\n",
    "    plt.show()"
   ]
  },
  {
   "cell_type": "code",
   "execution_count": 3,
   "metadata": {},
   "outputs": [],
   "source": [
    "# function for variances\n",
    "def varplot(x, label, h=0):\n",
    "    plt.plot(range(len(x)), x, linestyle=\"-.\")\n",
    "    plt.title('Plot of '+ label + ' variance')\n",
    "    plt.xticks(range(len(x)), [y+1 for y in range(len(x))])\n",
    "    plt.xlabel('Principal components')\n",
    "    plt.axhline(h)\n",
    "    plt.grid()\n",
    "    plt.show()"
   ]
  },
  {
   "cell_type": "code",
   "execution_count": 4,
   "metadata": {},
   "outputs": [],
   "source": [
    "def biplot(data, pc1loads, pc2loads, pc1, pc2, data_labels=True):\n",
    "\n",
    "    for i in range(len(pc1loads)):\n",
    "    # arrows project features as vectors onto PC axes\n",
    "        plt.arrow(0, 0, pc1loads[i]*max(pc1), pc2loads[i]*max(pc2), color='r')#, width=0.0005, head_width=0.025)\n",
    "        plt.text(pc1loads[i]*max(pc1)*1.2, pc2loads[i]*max(pc2)*1.2, list(data.columns.values)[i], color='r')\n",
    "\n",
    "    for i in range(len(pc1)):\n",
    "    # circles project observations as points onto PC axes\n",
    "        plt.plot(pc1[i], pc2[i], marker='o', color='blue')\n",
    "        if data_labels:\n",
    "            data_label = list(data.index)[i]\n",
    "        else:\n",
    "            data_label = \"\"\n",
    "        \n",
    "        plt.text(pc1[i]*1.2, pc2[i]*1.2, data_label, color='blue')\n",
    "    \n",
    "    plt.xlabel('PC1')\n",
    "    plt.ylabel('PC2')\n",
    "    plt.grid()\n",
    "    plt.show()"
   ]
  },
  {
   "cell_type": "markdown",
   "metadata": {},
   "source": [
    "## Load and preview the data"
   ]
  },
  {
   "cell_type": "code",
   "execution_count": 5,
   "metadata": {},
   "outputs": [],
   "source": [
    "# reading the data\n",
    "dfSwiss = pd.read_excel('SwissCantons.xlsx', sheet_name='data', header=0, index_col=0, na_values=['NA'])"
   ]
  },
  {
   "cell_type": "code",
   "execution_count": 6,
   "metadata": {
    "scrolled": true
   },
   "outputs": [
    {
     "data": {
      "text/html": [
       "<div>\n",
       "<style scoped>\n",
       "    .dataframe tbody tr th:only-of-type {\n",
       "        vertical-align: middle;\n",
       "    }\n",
       "\n",
       "    .dataframe tbody tr th {\n",
       "        vertical-align: top;\n",
       "    }\n",
       "\n",
       "    .dataframe thead th {\n",
       "        text-align: right;\n",
       "    }\n",
       "</style>\n",
       "<table border=\"1\" class=\"dataframe\">\n",
       "  <thead>\n",
       "    <tr style=\"text-align: right;\">\n",
       "      <th></th>\n",
       "      <th>Fertility</th>\n",
       "      <th>Agriculture</th>\n",
       "      <th>Examination</th>\n",
       "      <th>Education</th>\n",
       "      <th>Catholic</th>\n",
       "      <th>InfantMortality</th>\n",
       "    </tr>\n",
       "    <tr>\n",
       "      <th>Canton</th>\n",
       "      <th></th>\n",
       "      <th></th>\n",
       "      <th></th>\n",
       "      <th></th>\n",
       "      <th></th>\n",
       "      <th></th>\n",
       "    </tr>\n",
       "  </thead>\n",
       "  <tbody>\n",
       "    <tr>\n",
       "      <th>Courtelary</th>\n",
       "      <td>80.2</td>\n",
       "      <td>17.0</td>\n",
       "      <td>15</td>\n",
       "      <td>12</td>\n",
       "      <td>9.96</td>\n",
       "      <td>22.2</td>\n",
       "    </tr>\n",
       "    <tr>\n",
       "      <th>Delemont</th>\n",
       "      <td>83.1</td>\n",
       "      <td>45.1</td>\n",
       "      <td>6</td>\n",
       "      <td>9</td>\n",
       "      <td>84.84</td>\n",
       "      <td>22.2</td>\n",
       "    </tr>\n",
       "    <tr>\n",
       "      <th>Franches-Mnt</th>\n",
       "      <td>92.5</td>\n",
       "      <td>39.7</td>\n",
       "      <td>5</td>\n",
       "      <td>5</td>\n",
       "      <td>93.40</td>\n",
       "      <td>20.2</td>\n",
       "    </tr>\n",
       "    <tr>\n",
       "      <th>Moutier</th>\n",
       "      <td>85.8</td>\n",
       "      <td>36.5</td>\n",
       "      <td>12</td>\n",
       "      <td>7</td>\n",
       "      <td>33.77</td>\n",
       "      <td>20.3</td>\n",
       "    </tr>\n",
       "    <tr>\n",
       "      <th>Neuveville</th>\n",
       "      <td>76.9</td>\n",
       "      <td>43.5</td>\n",
       "      <td>17</td>\n",
       "      <td>15</td>\n",
       "      <td>5.16</td>\n",
       "      <td>20.6</td>\n",
       "    </tr>\n",
       "    <tr>\n",
       "      <th>Porrentruy</th>\n",
       "      <td>76.1</td>\n",
       "      <td>35.3</td>\n",
       "      <td>9</td>\n",
       "      <td>7</td>\n",
       "      <td>90.57</td>\n",
       "      <td>26.6</td>\n",
       "    </tr>\n",
       "  </tbody>\n",
       "</table>\n",
       "</div>"
      ],
      "text/plain": [
       "              Fertility  Agriculture  Examination  Education  Catholic  \\\n",
       "Canton                                                                   \n",
       "Courtelary         80.2         17.0           15         12      9.96   \n",
       "Delemont           83.1         45.1            6          9     84.84   \n",
       "Franches-Mnt       92.5         39.7            5          5     93.40   \n",
       "Moutier            85.8         36.5           12          7     33.77   \n",
       "Neuveville         76.9         43.5           17         15      5.16   \n",
       "Porrentruy         76.1         35.3            9          7     90.57   \n",
       "\n",
       "              InfantMortality  \n",
       "Canton                         \n",
       "Courtelary               22.2  \n",
       "Delemont                 22.2  \n",
       "Franches-Mnt             20.2  \n",
       "Moutier                  20.3  \n",
       "Neuveville               20.6  \n",
       "Porrentruy               26.6  "
      ]
     },
     "execution_count": 6,
     "metadata": {},
     "output_type": "execute_result"
    }
   ],
   "source": [
    "# preview the data frame\n",
    "dfSwiss.head(6)"
   ]
  },
  {
   "cell_type": "markdown",
   "metadata": {},
   "source": [
    "## 1. Exploratory data analysis"
   ]
  },
  {
   "cell_type": "markdown",
   "metadata": {},
   "source": [
    "### 1.1. Descriptive statistics"
   ]
  },
  {
   "cell_type": "code",
   "execution_count": 7,
   "metadata": {},
   "outputs": [
    {
     "data": {
      "text/html": [
       "<div>\n",
       "<style scoped>\n",
       "    .dataframe tbody tr th:only-of-type {\n",
       "        vertical-align: middle;\n",
       "    }\n",
       "\n",
       "    .dataframe tbody tr th {\n",
       "        vertical-align: top;\n",
       "    }\n",
       "\n",
       "    .dataframe thead th {\n",
       "        text-align: right;\n",
       "    }\n",
       "</style>\n",
       "<table border=\"1\" class=\"dataframe\">\n",
       "  <thead>\n",
       "    <tr style=\"text-align: right;\">\n",
       "      <th></th>\n",
       "      <th>Fertility</th>\n",
       "      <th>Agriculture</th>\n",
       "      <th>Examination</th>\n",
       "      <th>Education</th>\n",
       "      <th>Catholic</th>\n",
       "      <th>InfantMortality</th>\n",
       "    </tr>\n",
       "  </thead>\n",
       "  <tbody>\n",
       "    <tr>\n",
       "      <th>count</th>\n",
       "      <td>47.00</td>\n",
       "      <td>47.00</td>\n",
       "      <td>47.00</td>\n",
       "      <td>47.00</td>\n",
       "      <td>47.00</td>\n",
       "      <td>47.00</td>\n",
       "    </tr>\n",
       "    <tr>\n",
       "      <th>mean</th>\n",
       "      <td>70.14</td>\n",
       "      <td>50.66</td>\n",
       "      <td>16.49</td>\n",
       "      <td>10.98</td>\n",
       "      <td>41.14</td>\n",
       "      <td>19.94</td>\n",
       "    </tr>\n",
       "    <tr>\n",
       "      <th>std</th>\n",
       "      <td>12.49</td>\n",
       "      <td>22.71</td>\n",
       "      <td>7.98</td>\n",
       "      <td>9.62</td>\n",
       "      <td>41.70</td>\n",
       "      <td>2.91</td>\n",
       "    </tr>\n",
       "    <tr>\n",
       "      <th>min</th>\n",
       "      <td>35.00</td>\n",
       "      <td>1.20</td>\n",
       "      <td>3.00</td>\n",
       "      <td>1.00</td>\n",
       "      <td>2.15</td>\n",
       "      <td>10.80</td>\n",
       "    </tr>\n",
       "    <tr>\n",
       "      <th>25%</th>\n",
       "      <td>64.70</td>\n",
       "      <td>35.90</td>\n",
       "      <td>12.00</td>\n",
       "      <td>6.00</td>\n",
       "      <td>5.20</td>\n",
       "      <td>18.15</td>\n",
       "    </tr>\n",
       "    <tr>\n",
       "      <th>50%</th>\n",
       "      <td>70.40</td>\n",
       "      <td>54.10</td>\n",
       "      <td>16.00</td>\n",
       "      <td>8.00</td>\n",
       "      <td>15.14</td>\n",
       "      <td>20.00</td>\n",
       "    </tr>\n",
       "    <tr>\n",
       "      <th>75%</th>\n",
       "      <td>78.45</td>\n",
       "      <td>67.65</td>\n",
       "      <td>22.00</td>\n",
       "      <td>12.00</td>\n",
       "      <td>93.12</td>\n",
       "      <td>21.70</td>\n",
       "    </tr>\n",
       "    <tr>\n",
       "      <th>max</th>\n",
       "      <td>92.50</td>\n",
       "      <td>89.70</td>\n",
       "      <td>37.00</td>\n",
       "      <td>53.00</td>\n",
       "      <td>100.00</td>\n",
       "      <td>26.60</td>\n",
       "    </tr>\n",
       "  </tbody>\n",
       "</table>\n",
       "</div>"
      ],
      "text/plain": [
       "       Fertility  Agriculture  Examination  Education  Catholic  \\\n",
       "count      47.00        47.00        47.00      47.00     47.00   \n",
       "mean       70.14        50.66        16.49      10.98     41.14   \n",
       "std        12.49        22.71         7.98       9.62     41.70   \n",
       "min        35.00         1.20         3.00       1.00      2.15   \n",
       "25%        64.70        35.90        12.00       6.00      5.20   \n",
       "50%        70.40        54.10        16.00       8.00     15.14   \n",
       "75%        78.45        67.65        22.00      12.00     93.12   \n",
       "max        92.50        89.70        37.00      53.00    100.00   \n",
       "\n",
       "       InfantMortality  \n",
       "count            47.00  \n",
       "mean             19.94  \n",
       "std               2.91  \n",
       "min              10.80  \n",
       "25%              18.15  \n",
       "50%              20.00  \n",
       "75%              21.70  \n",
       "max              26.60  "
      ]
     },
     "execution_count": 7,
     "metadata": {},
     "output_type": "execute_result"
    }
   ],
   "source": [
    "# descriptive statistics\n",
    "dfSwiss.describe().round(2)"
   ]
  },
  {
   "cell_type": "markdown",
   "metadata": {},
   "source": [
    "### 1.2. Histograms of the features"
   ]
  },
  {
   "cell_type": "code",
   "execution_count": 8,
   "metadata": {
    "scrolled": true
   },
   "outputs": [
    {
     "data": {
      "image/png": "[encoded data removed]",
      "text/plain": [
       "<Figure size 432x288 with 1 Axes>"
      ]
     },
     "metadata": {
      "needs_background": "light"
     },
     "output_type": "display_data"
    }
   ],
   "source": [
    "myHist('Fertility')"
   ]
  },
  {
   "cell_type": "code",
   "execution_count": 9,
   "metadata": {},
   "outputs": [
    {
     "data": {
      "image/png": "[encoded data removed]",
      "text/plain": [
       "<Figure size 432x288 with 1 Axes>"
      ]
     },
     "metadata": {
      "needs_background": "light"
     },
     "output_type": "display_data"
    }
   ],
   "source": [
    "myHist('Agriculture')"
   ]
  },
  {
   "cell_type": "code",
   "execution_count": 10,
   "metadata": {},
   "outputs": [
    {
     "data": {
      "image/png": "[encoded data removed]",
      "text/plain": [
       "<Figure size 432x288 with 1 Axes>"
      ]
     },
     "metadata": {
      "needs_background": "light"
     },
     "output_type": "display_data"
    }
   ],
   "source": [
    "myHist('Examination')"
   ]
  },
  {
   "cell_type": "code",
   "execution_count": 11,
   "metadata": {},
   "outputs": [
    {
     "data": {
      "image/png": "[encoded data removed]",
      "text/plain": [
       "<Figure size 432x288 with 1 Axes>"
      ]
     },
     "metadata": {
      "needs_background": "light"
     },
     "output_type": "display_data"
    }
   ],
   "source": [
    "myHist('Education')"
   ]
  },
  {
   "cell_type": "code",
   "execution_count": 12,
   "metadata": {},
   "outputs": [
    {
     "data": {
      "image/png": "[encoded data removed]",
      "text/plain": [
       "<Figure size 432x288 with 1 Axes>"
      ]
     },
     "metadata": {
      "needs_background": "light"
     },
     "output_type": "display_data"
    }
   ],
   "source": [
    "myHist('Catholic')"
   ]
  },
  {
   "cell_type": "code",
   "execution_count": 13,
   "metadata": {},
   "outputs": [
    {
     "data": {
      "image/png": "[encoded data removed]",
      "text/plain": [
       "<Figure size 432x288 with 1 Axes>"
      ]
     },
     "metadata": {
      "needs_background": "light"
     },
     "output_type": "display_data"
    }
   ],
   "source": [
    "myHist('InfantMortality')"
   ]
  },
  {
   "cell_type": "markdown",
   "metadata": {},
   "source": [
    "### 1.3. Correlation analysis"
   ]
  },
  {
   "cell_type": "code",
   "execution_count": 14,
   "metadata": {
    "scrolled": true
   },
   "outputs": [
    {
     "data": {
      "text/html": [
       "<div>\n",
       "<style scoped>\n",
       "    .dataframe tbody tr th:only-of-type {\n",
       "        vertical-align: middle;\n",
       "    }\n",
       "\n",
       "    .dataframe tbody tr th {\n",
       "        vertical-align: top;\n",
       "    }\n",
       "\n",
       "    .dataframe thead th {\n",
       "        text-align: right;\n",
       "    }\n",
       "</style>\n",
       "<table border=\"1\" class=\"dataframe\">\n",
       "  <thead>\n",
       "    <tr style=\"text-align: right;\">\n",
       "      <th></th>\n",
       "      <th>Fertility</th>\n",
       "      <th>Agriculture</th>\n",
       "      <th>Examination</th>\n",
       "      <th>Education</th>\n",
       "      <th>Catholic</th>\n",
       "      <th>InfantMortality</th>\n",
       "    </tr>\n",
       "  </thead>\n",
       "  <tbody>\n",
       "    <tr>\n",
       "      <th>Fertility</th>\n",
       "      <td>1.00</td>\n",
       "      <td>0.35</td>\n",
       "      <td>-0.65</td>\n",
       "      <td>-0.66</td>\n",
       "      <td>0.46</td>\n",
       "      <td>0.42</td>\n",
       "    </tr>\n",
       "    <tr>\n",
       "      <th>Agriculture</th>\n",
       "      <td>0.35</td>\n",
       "      <td>1.00</td>\n",
       "      <td>-0.69</td>\n",
       "      <td>-0.64</td>\n",
       "      <td>0.40</td>\n",
       "      <td>-0.06</td>\n",
       "    </tr>\n",
       "    <tr>\n",
       "      <th>Examination</th>\n",
       "      <td>-0.65</td>\n",
       "      <td>-0.69</td>\n",
       "      <td>1.00</td>\n",
       "      <td>0.70</td>\n",
       "      <td>-0.57</td>\n",
       "      <td>-0.11</td>\n",
       "    </tr>\n",
       "    <tr>\n",
       "      <th>Education</th>\n",
       "      <td>-0.66</td>\n",
       "      <td>-0.64</td>\n",
       "      <td>0.70</td>\n",
       "      <td>1.00</td>\n",
       "      <td>-0.15</td>\n",
       "      <td>-0.10</td>\n",
       "    </tr>\n",
       "    <tr>\n",
       "      <th>Catholic</th>\n",
       "      <td>0.46</td>\n",
       "      <td>0.40</td>\n",
       "      <td>-0.57</td>\n",
       "      <td>-0.15</td>\n",
       "      <td>1.00</td>\n",
       "      <td>0.18</td>\n",
       "    </tr>\n",
       "    <tr>\n",
       "      <th>InfantMortality</th>\n",
       "      <td>0.42</td>\n",
       "      <td>-0.06</td>\n",
       "      <td>-0.11</td>\n",
       "      <td>-0.10</td>\n",
       "      <td>0.18</td>\n",
       "      <td>1.00</td>\n",
       "    </tr>\n",
       "  </tbody>\n",
       "</table>\n",
       "</div>"
      ],
      "text/plain": [
       "                 Fertility  Agriculture  Examination  Education  Catholic  \\\n",
       "Fertility             1.00         0.35        -0.65      -0.66      0.46   \n",
       "Agriculture           0.35         1.00        -0.69      -0.64      0.40   \n",
       "Examination          -0.65        -0.69         1.00       0.70     -0.57   \n",
       "Education            -0.66        -0.64         0.70       1.00     -0.15   \n",
       "Catholic              0.46         0.40        -0.57      -0.15      1.00   \n",
       "InfantMortality       0.42        -0.06        -0.11      -0.10      0.18   \n",
       "\n",
       "                 InfantMortality  \n",
       "Fertility                   0.42  \n",
       "Agriculture                -0.06  \n",
       "Examination                -0.11  \n",
       "Education                  -0.10  \n",
       "Catholic                    0.18  \n",
       "InfantMortality             1.00  "
      ]
     },
     "execution_count": 14,
     "metadata": {},
     "output_type": "execute_result"
    }
   ],
   "source": [
    "# calculate correlations\n",
    "dfSwiss.corr(method=\"pearson\").round(2)"
   ]
  },
  {
   "cell_type": "markdown",
   "metadata": {},
   "source": [
    "## 2. PCA: procedure and results"
   ]
  },
  {
   "cell_type": "markdown",
   "metadata": {},
   "source": [
    "### 2.1. Data preparation"
   ]
  },
  {
   "cell_type": "code",
   "execution_count": 16,
   "metadata": {},
   "outputs": [
    {
     "data": {
      "text/html": [
       "<div>\n",
       "<style scoped>\n",
       "    .dataframe tbody tr th:only-of-type {\n",
       "        vertical-align: middle;\n",
       "    }\n",
       "\n",
       "    .dataframe tbody tr th {\n",
       "        vertical-align: top;\n",
       "    }\n",
       "\n",
       "    .dataframe thead th {\n",
       "        text-align: right;\n",
       "    }\n",
       "</style>\n",
       "<table border=\"1\" class=\"dataframe\">\n",
       "  <thead>\n",
       "    <tr style=\"text-align: right;\">\n",
       "      <th></th>\n",
       "      <th>0</th>\n",
       "      <th>1</th>\n",
       "      <th>2</th>\n",
       "      <th>3</th>\n",
       "      <th>4</th>\n",
       "      <th>5</th>\n",
       "    </tr>\n",
       "  </thead>\n",
       "  <tbody>\n",
       "    <tr>\n",
       "      <th>0</th>\n",
       "      <td>0.813835</td>\n",
       "      <td>-1.498091</td>\n",
       "      <td>-0.188705</td>\n",
       "      <td>0.107361</td>\n",
       "      <td>-0.755810</td>\n",
       "      <td>0.783416</td>\n",
       "    </tr>\n",
       "    <tr>\n",
       "      <th>1</th>\n",
       "      <td>1.048499</td>\n",
       "      <td>-0.247441</td>\n",
       "      <td>-1.329020</td>\n",
       "      <td>-0.208012</td>\n",
       "      <td>1.059075</td>\n",
       "      <td>0.783416</td>\n",
       "    </tr>\n",
       "    <tr>\n",
       "      <th>2</th>\n",
       "      <td>1.809134</td>\n",
       "      <td>-0.487779</td>\n",
       "      <td>-1.455721</td>\n",
       "      <td>-0.628508</td>\n",
       "      <td>1.266546</td>\n",
       "      <td>0.089343</td>\n",
       "    </tr>\n",
       "    <tr>\n",
       "      <th>3</th>\n",
       "      <td>1.266979</td>\n",
       "      <td>-0.630202</td>\n",
       "      <td>-0.568810</td>\n",
       "      <td>-0.418260</td>\n",
       "      <td>-0.178721</td>\n",
       "      <td>0.124047</td>\n",
       "    </tr>\n",
       "    <tr>\n",
       "      <th>4</th>\n",
       "      <td>0.546803</td>\n",
       "      <td>-0.318652</td>\n",
       "      <td>0.064699</td>\n",
       "      <td>0.422733</td>\n",
       "      <td>-0.872149</td>\n",
       "      <td>0.228158</td>\n",
       "    </tr>\n",
       "  </tbody>\n",
       "</table>\n",
       "</div>"
      ],
      "text/plain": [
       "          0         1         2         3         4         5\n",
       "0  0.813835 -1.498091 -0.188705  0.107361 -0.755810  0.783416\n",
       "1  1.048499 -0.247441 -1.329020 -0.208012  1.059075  0.783416\n",
       "2  1.809134 -0.487779 -1.455721 -0.628508  1.266546  0.089343\n",
       "3  1.266979 -0.630202 -0.568810 -0.418260 -0.178721  0.124047\n",
       "4  0.546803 -0.318652  0.064699  0.422733 -0.872149  0.228158"
      ]
     },
     "execution_count": 16,
     "metadata": {},
     "output_type": "execute_result"
    }
   ],
   "source": [
    "# scale the data\n",
    "dfSwissScaled = StandardScaler(with_mean=True, with_std=True).fit_transform(dfSwiss)\n",
    "dfSwissScaled = pd.DataFrame(dfSwissScaled)\n",
    "\n",
    "dfSwissScaled.head(5)"
   ]
  },
  {
   "cell_type": "code",
   "execution_count": 17,
   "metadata": {},
   "outputs": [
    {
     "data": {
      "text/html": [
       "<div>\n",
       "<style scoped>\n",
       "    .dataframe tbody tr th:only-of-type {\n",
       "        vertical-align: middle;\n",
       "    }\n",
       "\n",
       "    .dataframe tbody tr th {\n",
       "        vertical-align: top;\n",
       "    }\n",
       "\n",
       "    .dataframe thead th {\n",
       "        text-align: right;\n",
       "    }\n",
       "</style>\n",
       "<table border=\"1\" class=\"dataframe\">\n",
       "  <thead>\n",
       "    <tr style=\"text-align: right;\">\n",
       "      <th></th>\n",
       "      <th>Fertility</th>\n",
       "      <th>Agriculture</th>\n",
       "      <th>Examination</th>\n",
       "      <th>Education</th>\n",
       "      <th>Catholic</th>\n",
       "      <th>InfantMortality</th>\n",
       "    </tr>\n",
       "    <tr>\n",
       "      <th>Canton</th>\n",
       "      <th></th>\n",
       "      <th></th>\n",
       "      <th></th>\n",
       "      <th></th>\n",
       "      <th></th>\n",
       "      <th></th>\n",
       "    </tr>\n",
       "  </thead>\n",
       "  <tbody>\n",
       "    <tr>\n",
       "      <th>Courtelary</th>\n",
       "      <td>0.813835</td>\n",
       "      <td>-1.498091</td>\n",
       "      <td>-0.188705</td>\n",
       "      <td>0.107361</td>\n",
       "      <td>-0.755810</td>\n",
       "      <td>0.783416</td>\n",
       "    </tr>\n",
       "    <tr>\n",
       "      <th>Delemont</th>\n",
       "      <td>1.048499</td>\n",
       "      <td>-0.247441</td>\n",
       "      <td>-1.329020</td>\n",
       "      <td>-0.208012</td>\n",
       "      <td>1.059075</td>\n",
       "      <td>0.783416</td>\n",
       "    </tr>\n",
       "    <tr>\n",
       "      <th>Franches-Mnt</th>\n",
       "      <td>1.809134</td>\n",
       "      <td>-0.487779</td>\n",
       "      <td>-1.455721</td>\n",
       "      <td>-0.628508</td>\n",
       "      <td>1.266546</td>\n",
       "      <td>0.089343</td>\n",
       "    </tr>\n",
       "    <tr>\n",
       "      <th>Moutier</th>\n",
       "      <td>1.266979</td>\n",
       "      <td>-0.630202</td>\n",
       "      <td>-0.568810</td>\n",
       "      <td>-0.418260</td>\n",
       "      <td>-0.178721</td>\n",
       "      <td>0.124047</td>\n",
       "    </tr>\n",
       "    <tr>\n",
       "      <th>Neuveville</th>\n",
       "      <td>0.546803</td>\n",
       "      <td>-0.318652</td>\n",
       "      <td>0.064699</td>\n",
       "      <td>0.422733</td>\n",
       "      <td>-0.872149</td>\n",
       "      <td>0.228158</td>\n",
       "    </tr>\n",
       "  </tbody>\n",
       "</table>\n",
       "</div>"
      ],
      "text/plain": [
       "              Fertility  Agriculture  Examination  Education  Catholic  \\\n",
       "Canton                                                                   \n",
       "Courtelary     0.813835    -1.498091    -0.188705   0.107361 -0.755810   \n",
       "Delemont       1.048499    -0.247441    -1.329020  -0.208012  1.059075   \n",
       "Franches-Mnt   1.809134    -0.487779    -1.455721  -0.628508  1.266546   \n",
       "Moutier        1.266979    -0.630202    -0.568810  -0.418260 -0.178721   \n",
       "Neuveville     0.546803    -0.318652     0.064699   0.422733 -0.872149   \n",
       "\n",
       "              InfantMortality  \n",
       "Canton                         \n",
       "Courtelary           0.783416  \n",
       "Delemont             0.783416  \n",
       "Franches-Mnt         0.089343  \n",
       "Moutier              0.124047  \n",
       "Neuveville           0.228158  "
      ]
     },
     "execution_count": 17,
     "metadata": {},
     "output_type": "execute_result"
    }
   ],
   "source": [
    "# re-assign names of rows and columns \n",
    "dfSwissScaled.columns = dfSwiss.columns.values\n",
    "dfSwissScaled.index = dfSwiss.index\n",
    "\n",
    "dfSwissScaled.head(5)"
   ]
  },
  {
   "cell_type": "markdown",
   "metadata": {},
   "source": [
    "### 2.2. Run the analysis"
   ]
  },
  {
   "cell_type": "code",
   "execution_count": 18,
   "metadata": {},
   "outputs": [],
   "source": [
    "# run PCA\n",
    "pca = skPCA(n_components=None).fit(dfSwissScaled)"
   ]
  },
  {
   "cell_type": "markdown",
   "metadata": {},
   "source": [
    "**Individual variances**"
   ]
  },
  {
   "cell_type": "code",
   "execution_count": 19,
   "metadata": {},
   "outputs": [
    {
     "data": {
      "image/png": "[encoded data removed]",
      "text/plain": [
       "<Figure size 432x288 with 1 Axes>"
      ]
     },
     "metadata": {
      "needs_background": "light"
     },
     "output_type": "display_data"
    }
   ],
   "source": [
    "# get the variances of PCs\n",
    "varExplained=pca.explained_variance_\n",
    "\n",
    "# h=1 for the Kaiser criterion\n",
    "varplot(varExplained, \"individual\", h=1)"
   ]
  },
  {
   "cell_type": "markdown",
   "metadata": {},
   "source": [
    "**Cumulative variance**"
   ]
  },
  {
   "cell_type": "code",
   "execution_count": 20,
   "metadata": {},
   "outputs": [
    {
     "data": {
      "text/plain": [
       "array([0.53329283, 0.19805137, 0.1412683 , 0.07315478, 0.03408895,\n",
       "       0.02014376])"
      ]
     },
     "execution_count": 20,
     "metadata": {},
     "output_type": "execute_result"
    }
   ],
   "source": [
    "# % of variance explained by PCs\n",
    "varExplainedRatio = pca.explained_variance_ratio_\n",
    "varExplainedRatio"
   ]
  },
  {
   "cell_type": "code",
   "execution_count": 21,
   "metadata": {},
   "outputs": [
    {
     "data": {
      "image/png": "[encoded data removed]",
      "text/plain": [
       "<Figure size 432x288 with 1 Axes>"
      ]
     },
     "metadata": {
      "needs_background": "light"
     },
     "output_type": "display_data"
    }
   ],
   "source": [
    "varplot(varExplainedRatio, \"explained ratio\")"
   ]
  },
  {
   "cell_type": "code",
   "execution_count": 22,
   "metadata": {},
   "outputs": [
    {
     "data": {
      "text/plain": [
       "array([0.53329283, 0.73134421, 0.87261251, 0.94576729, 0.97985624,\n",
       "       1.        ])"
      ]
     },
     "execution_count": 22,
     "metadata": {},
     "output_type": "execute_result"
    }
   ],
   "source": [
    "# cumulative variance\n",
    "cumulVarExplained = np.cumsum(varExplainedRatio)\n",
    "cumulVarExplained"
   ]
  },
  {
   "cell_type": "code",
   "execution_count": 23,
   "metadata": {
    "scrolled": true
   },
   "outputs": [
    {
     "data": {
      "image/png": "[encoded data removed]",
      "text/plain": [
       "<Figure size 432x288 with 1 Axes>"
      ]
     },
     "metadata": {
      "needs_background": "light"
     },
     "output_type": "display_data"
    }
   ],
   "source": [
    "varplot(cumulVarExplained, \"cumulative\", h=0.8)"
   ]
  },
  {
   "cell_type": "markdown",
   "metadata": {},
   "source": [
    "## 3. PCA results"
   ]
  },
  {
   "cell_type": "markdown",
   "metadata": {},
   "source": [
    "### 3.1. PCs: loadings and values"
   ]
  },
  {
   "cell_type": "code",
   "execution_count": 24,
   "metadata": {},
   "outputs": [
    {
     "data": {
      "text/plain": [
       "array([-0.45698761, -0.42421408,  0.50973275,  0.4543119 , -0.35011114,\n",
       "       -0.14966679])"
      ]
     },
     "execution_count": 24,
     "metadata": {},
     "output_type": "execute_result"
    }
   ],
   "source": [
    "# (!) \"components_\" means \"loadings\"\n",
    "# (!) 0,1 denote PC1 and PC2; change values to get other PCs\n",
    "PC1loadings = pca.components_[0] \n",
    "PC2loadings = pca.components_[1]\n",
    "\n",
    "# print PC1 loadings\n",
    "PC1loadings"
   ]
  },
  {
   "cell_type": "code",
   "execution_count": 25,
   "metadata": {
    "scrolled": false
   },
   "outputs": [
    {
     "data": {
      "text/html": [
       "<div>\n",
       "<style scoped>\n",
       "    .dataframe tbody tr th:only-of-type {\n",
       "        vertical-align: middle;\n",
       "    }\n",
       "\n",
       "    .dataframe tbody tr th {\n",
       "        vertical-align: top;\n",
       "    }\n",
       "\n",
       "    .dataframe thead th {\n",
       "        text-align: right;\n",
       "    }\n",
       "</style>\n",
       "<table border=\"1\" class=\"dataframe\">\n",
       "  <thead>\n",
       "    <tr style=\"text-align: right;\">\n",
       "      <th></th>\n",
       "      <th>PC1</th>\n",
       "      <th>PC2</th>\n",
       "    </tr>\n",
       "    <tr>\n",
       "      <th>Canton</th>\n",
       "      <th></th>\n",
       "      <th></th>\n",
       "    </tr>\n",
       "  </thead>\n",
       "  <tbody>\n",
       "    <tr>\n",
       "      <th>Sion</th>\n",
       "      <td>-1.079172</td>\n",
       "      <td>-0.328253</td>\n",
       "    </tr>\n",
       "    <tr>\n",
       "      <th>Boudry</th>\n",
       "      <td>1.167838</td>\n",
       "      <td>0.376142</td>\n",
       "    </tr>\n",
       "    <tr>\n",
       "      <th>La_Chauxdfnd</th>\n",
       "      <td>1.987548</td>\n",
       "      <td>0.929831</td>\n",
       "    </tr>\n",
       "    <tr>\n",
       "      <th>Le_Locle</th>\n",
       "      <td>1.307113</td>\n",
       "      <td>0.414674</td>\n",
       "    </tr>\n",
       "    <tr>\n",
       "      <th>Neuchatel</th>\n",
       "      <td>3.082738</td>\n",
       "      <td>1.919769</td>\n",
       "    </tr>\n",
       "    <tr>\n",
       "      <th>Val_de_Ruz</th>\n",
       "      <td>-0.011427</td>\n",
       "      <td>0.223313</td>\n",
       "    </tr>\n",
       "    <tr>\n",
       "      <th>ValdeTravers</th>\n",
       "      <td>1.355786</td>\n",
       "      <td>0.339548</td>\n",
       "    </tr>\n",
       "    <tr>\n",
       "      <th>V_De_Geneve</th>\n",
       "      <td>5.655658</td>\n",
       "      <td>0.563338</td>\n",
       "    </tr>\n",
       "    <tr>\n",
       "      <th>Rive_Droite</th>\n",
       "      <td>1.858266</td>\n",
       "      <td>-0.714883</td>\n",
       "    </tr>\n",
       "    <tr>\n",
       "      <th>Rive_Gauche</th>\n",
       "      <td>2.548701</td>\n",
       "      <td>0.014389</td>\n",
       "    </tr>\n",
       "  </tbody>\n",
       "</table>\n",
       "</div>"
      ],
      "text/plain": [
       "                   PC1       PC2\n",
       "Canton                          \n",
       "Sion         -1.079172 -0.328253\n",
       "Boudry        1.167838  0.376142\n",
       "La_Chauxdfnd  1.987548  0.929831\n",
       "Le_Locle      1.307113  0.414674\n",
       "Neuchatel     3.082738  1.919769\n",
       "Val_de_Ruz   -0.011427  0.223313\n",
       "ValdeTravers  1.355786  0.339548\n",
       "V_De_Geneve   5.655658  0.563338\n",
       "Rive_Droite   1.858266 -0.714883\n",
       "Rive_Gauche   2.548701  0.014389"
      ]
     },
     "execution_count": 25,
     "metadata": {},
     "output_type": "execute_result"
    }
   ],
   "source": [
    "# the values \n",
    "PC1values = pca.transform(dfSwissScaled)[:,0]\n",
    "PC2values = pca.transform(dfSwissScaled)[:,1]\n",
    "\n",
    "# make a data-frame of PCs\n",
    "dfPCs = pd.DataFrame({'PC1': PC1values,\n",
    "                    'PC2': PC2values})\n",
    "dfPCs.index = dfSwiss.index\n",
    "\n",
    "# print PC1 values\n",
    "dfPCs.tail(10)"
   ]
  },
  {
   "cell_type": "code",
   "execution_count": 26,
   "metadata": {
    "scrolled": true
   },
   "outputs": [
    {
     "data": {
      "text/html": [
       "<div>\n",
       "<style scoped>\n",
       "    .dataframe tbody tr th:only-of-type {\n",
       "        vertical-align: middle;\n",
       "    }\n",
       "\n",
       "    .dataframe tbody tr th {\n",
       "        vertical-align: top;\n",
       "    }\n",
       "\n",
       "    .dataframe thead th {\n",
       "        text-align: right;\n",
       "    }\n",
       "</style>\n",
       "<table border=\"1\" class=\"dataframe\">\n",
       "  <thead>\n",
       "    <tr style=\"text-align: right;\">\n",
       "      <th></th>\n",
       "      <th>PC1</th>\n",
       "      <th>PC2</th>\n",
       "    </tr>\n",
       "  </thead>\n",
       "  <tbody>\n",
       "    <tr>\n",
       "      <th>PC1</th>\n",
       "      <td>1.0</td>\n",
       "      <td>-0.0</td>\n",
       "    </tr>\n",
       "    <tr>\n",
       "      <th>PC2</th>\n",
       "      <td>-0.0</td>\n",
       "      <td>1.0</td>\n",
       "    </tr>\n",
       "  </tbody>\n",
       "</table>\n",
       "</div>"
      ],
      "text/plain": [
       "     PC1  PC2\n",
       "PC1  1.0 -0.0\n",
       "PC2 -0.0  1.0"
      ]
     },
     "execution_count": 26,
     "metadata": {},
     "output_type": "execute_result"
    }
   ],
   "source": [
    "# check that PC values are uncorrelated\n",
    "dfPCs.corr().round(3)"
   ]
  },
  {
   "cell_type": "markdown",
   "metadata": {},
   "source": [
    "### 3.2. Interpretation of PCs"
   ]
  },
  {
   "cell_type": "code",
   "execution_count": 33,
   "metadata": {
    "scrolled": true
   },
   "outputs": [
    {
     "data": {
      "image/png": "[encoded data removed]",
      "text/plain": [
       "<Figure size 432x288 with 1 Axes>"
      ]
     },
     "metadata": {
      "needs_background": "light"
     },
     "output_type": "display_data"
    }
   ],
   "source": [
    "# construct a biplot\n",
    "biplot(dfSwiss, PC1loadings, PC2loadings, PC1values, PC2values, data_labels=True)"
   ]
  },
  {
   "cell_type": "code",
   "execution_count": 28,
   "metadata": {
    "scrolled": false
   },
   "outputs": [
    {
     "data": {
      "text/plain": [
       "array([[1.  , 0.91],\n",
       "       [0.91, 1.  ]])"
      ]
     },
     "execution_count": 28,
     "metadata": {},
     "output_type": "execute_result"
    }
   ],
   "source": [
    "# example of correlation\n",
    "np.corrcoef(dfPCs['PC1'], dfSwiss['Examination']).round(2)"
   ]
  },
  {
   "cell_type": "markdown",
   "metadata": {},
   "source": [
    "### 3.3. Adequacy of PCA"
   ]
  },
  {
   "cell_type": "code",
   "execution_count": 29,
   "metadata": {},
   "outputs": [
    {
     "data": {
      "text/html": [
       "<div>\n",
       "<style scoped>\n",
       "    .dataframe tbody tr th:only-of-type {\n",
       "        vertical-align: middle;\n",
       "    }\n",
       "\n",
       "    .dataframe tbody tr th {\n",
       "        vertical-align: top;\n",
       "    }\n",
       "\n",
       "    .dataframe thead th {\n",
       "        text-align: right;\n",
       "    }\n",
       "</style>\n",
       "<table border=\"1\" class=\"dataframe\">\n",
       "  <thead>\n",
       "    <tr style=\"text-align: right;\">\n",
       "      <th></th>\n",
       "      <th>Fertility</th>\n",
       "      <th>Agriculture</th>\n",
       "      <th>Examination</th>\n",
       "      <th>Education</th>\n",
       "      <th>Catholic</th>\n",
       "      <th>InfantMortality</th>\n",
       "    </tr>\n",
       "  </thead>\n",
       "  <tbody>\n",
       "    <tr>\n",
       "      <th>Fertility</th>\n",
       "      <td>1.00</td>\n",
       "      <td>0.35</td>\n",
       "      <td>-0.65</td>\n",
       "      <td>-0.66</td>\n",
       "      <td>0.46</td>\n",
       "      <td>0.42</td>\n",
       "    </tr>\n",
       "    <tr>\n",
       "      <th>Agriculture</th>\n",
       "      <td>0.35</td>\n",
       "      <td>1.00</td>\n",
       "      <td>-0.69</td>\n",
       "      <td>-0.64</td>\n",
       "      <td>0.40</td>\n",
       "      <td>-0.06</td>\n",
       "    </tr>\n",
       "    <tr>\n",
       "      <th>Examination</th>\n",
       "      <td>-0.65</td>\n",
       "      <td>-0.69</td>\n",
       "      <td>1.00</td>\n",
       "      <td>0.70</td>\n",
       "      <td>-0.57</td>\n",
       "      <td>-0.11</td>\n",
       "    </tr>\n",
       "    <tr>\n",
       "      <th>Education</th>\n",
       "      <td>-0.66</td>\n",
       "      <td>-0.64</td>\n",
       "      <td>0.70</td>\n",
       "      <td>1.00</td>\n",
       "      <td>-0.15</td>\n",
       "      <td>-0.10</td>\n",
       "    </tr>\n",
       "    <tr>\n",
       "      <th>Catholic</th>\n",
       "      <td>0.46</td>\n",
       "      <td>0.40</td>\n",
       "      <td>-0.57</td>\n",
       "      <td>-0.15</td>\n",
       "      <td>1.00</td>\n",
       "      <td>0.18</td>\n",
       "    </tr>\n",
       "    <tr>\n",
       "      <th>InfantMortality</th>\n",
       "      <td>0.42</td>\n",
       "      <td>-0.06</td>\n",
       "      <td>-0.11</td>\n",
       "      <td>-0.10</td>\n",
       "      <td>0.18</td>\n",
       "      <td>1.00</td>\n",
       "    </tr>\n",
       "  </tbody>\n",
       "</table>\n",
       "</div>"
      ],
      "text/plain": [
       "                 Fertility  Agriculture  Examination  Education  Catholic  \\\n",
       "Fertility             1.00         0.35        -0.65      -0.66      0.46   \n",
       "Agriculture           0.35         1.00        -0.69      -0.64      0.40   \n",
       "Examination          -0.65        -0.69         1.00       0.70     -0.57   \n",
       "Education            -0.66        -0.64         0.70       1.00     -0.15   \n",
       "Catholic              0.46         0.40        -0.57      -0.15      1.00   \n",
       "InfantMortality       0.42        -0.06        -0.11      -0.10      0.18   \n",
       "\n",
       "                 InfantMortality  \n",
       "Fertility                   0.42  \n",
       "Agriculture                -0.06  \n",
       "Examination                -0.11  \n",
       "Education                  -0.10  \n",
       "Catholic                    0.18  \n",
       "InfantMortality             1.00  "
      ]
     },
     "execution_count": 29,
     "metadata": {},
     "output_type": "execute_result"
    }
   ],
   "source": [
    "# correlation matrix for the original features\n",
    "dfSwiss.corr(method=\"pearson\").round(2)"
   ]
  },
  {
   "cell_type": "code",
   "execution_count": 30,
   "metadata": {},
   "outputs": [
    {
     "name": "stdout",
     "output_type": "stream",
     "text": [
      " -= Bartlett's sphericity test =-\n",
      "Test statistic =  144.74955241996057\n",
      "P-value = 2.6512880535026057e-23\n"
     ]
    }
   ],
   "source": [
    "# The Bartlett test\n",
    "Bchi_square_value, Bp_value = calculate_bartlett_sphericity(dfSwiss)\n",
    "\n",
    "print(\" -= Bartlett's sphericity test =-\")\n",
    "print(\"Test statistic = \", Bchi_square_value)\n",
    "print(\"P-value =\", Bp_value)"
   ]
  },
  {
   "cell_type": "code",
   "execution_count": 31,
   "metadata": {
    "scrolled": true
   },
   "outputs": [
    {
     "name": "stdout",
     "output_type": "stream",
     "text": [
      " -= KMO test =-\n"
     ]
    },
    {
     "data": {
      "text/plain": [
       "0.6256807250227788"
      ]
     },
     "execution_count": 31,
     "metadata": {},
     "output_type": "execute_result"
    }
   ],
   "source": [
    "# The Kaiser-Meyer-Olkin test\n",
    "kmo_all, kmo_model = calculate_kmo(dfSwiss)\n",
    "print(\" -= KMO test =-\")\n",
    "kmo_model"
   ]
  },
  {
   "cell_type": "markdown",
   "metadata": {},
   "source": [
    "## 4. Agglomerative Hierarchical Cluster Analysis (AHCA)"
   ]
  },
  {
   "cell_type": "markdown",
   "metadata": {},
   "source": [
    "### 4.1. Run AHCA"
   ]
  },
  {
   "cell_type": "code",
   "execution_count": 34,
   "metadata": {},
   "outputs": [],
   "source": [
    "# calculate linkages\n",
    "hca = linkage(dfSwiss, method='ward', metric='euclidean')"
   ]
  },
  {
   "cell_type": "code",
   "execution_count": 35,
   "metadata": {},
   "outputs": [
    {
     "data": {
      "image/png": "[encoded data removed]",
      "text/plain": [
       "<Figure size 720x504 with 1 Axes>"
      ]
     },
     "metadata": {
      "needs_background": "light"
     },
     "output_type": "display_data"
    }
   ],
   "source": [
    "# create a dendrogram\n",
    "plt.figure(figsize=(10, 7))  \n",
    "\n",
    "\n",
    "dendrogram(hca, orientation='top',\n",
    "            labels=dfSwiss.index,\n",
    "            distance_sort='descending',\n",
    "            color_threshold=0,\n",
    "            leaf_font_size=14,leaf_rotation=90,\n",
    "            show_leaf_counts=True)\n",
    "plt.show()  "
   ]
  },
  {
   "cell_type": "code",
   "execution_count": 36,
   "metadata": {},
   "outputs": [
    {
     "data": {
      "text/plain": [
       "array([[0],\n",
       "       [1],\n",
       "       [1],\n",
       "       [0],\n",
       "       [0],\n",
       "       [1],\n",
       "       [1],\n",
       "       [1],\n",
       "       [1],\n",
       "       [1],\n",
       "       [1],\n",
       "       [2],\n",
       "       [2],\n",
       "       [2],\n",
       "       [2],\n",
       "       [2],\n",
       "       [0],\n",
       "       [0],\n",
       "       [0],\n",
       "       [2],\n",
       "       [2],\n",
       "       [2],\n",
       "       [2],\n",
       "       [2],\n",
       "       [2],\n",
       "       [2],\n",
       "       [2],\n",
       "       [2],\n",
       "       [0],\n",
       "       [2],\n",
       "       [1],\n",
       "       [1],\n",
       "       [1],\n",
       "       [1],\n",
       "       [1],\n",
       "       [1],\n",
       "       [1],\n",
       "       [1],\n",
       "       [0],\n",
       "       [0],\n",
       "       [0],\n",
       "       [0],\n",
       "       [0],\n",
       "       [0],\n",
       "       [0],\n",
       "       [0],\n",
       "       [0]])"
      ]
     },
     "execution_count": 36,
     "metadata": {},
     "output_type": "execute_result"
    }
   ],
   "source": [
    "# cut the tree\n",
    "swissCut = cut_tree(hca, n_clusters=3, height=None)\n",
    "swissCut\n"
   ]
  },
  {
   "cell_type": "code",
   "execution_count": 37,
   "metadata": {},
   "outputs": [
    {
     "name": "stdout",
     "output_type": "stream",
     "text": [
      "[0, 1, 1, 0, 0, 1, 1, 1, 1, 1, 1, 2, 2, 2, 2, 2, 0, 0, 0, 2, 2, 2, 2, 2, 2, 2, 2, 2, 0, 2, 1, 1, 1, 1, 1, 1, 1, 1, 0, 0, 0, 0, 0, 0, 0, 0, 0]\n"
     ]
    }
   ],
   "source": [
    "# look at the results\n",
    "flattenedSwissCut = [y for x in swissCut for y in x]\n",
    "print(flattenedSwissCut)"
   ]
  },
  {
   "cell_type": "markdown",
   "metadata": {},
   "source": [
    "### 4.2. Interpret the clusters"
   ]
  },
  {
   "cell_type": "code",
   "execution_count": 38,
   "metadata": {},
   "outputs": [
    {
     "data": {
      "text/plain": [
       "Fertility          63.98750\n",
       "Agriculture        25.28750\n",
       "Examination        23.12500\n",
       "Education          18.87500\n",
       "Catholic           18.57375\n",
       "InfantMortality    19.54375\n",
       "dtype: float64"
      ]
     },
     "execution_count": 38,
     "metadata": {},
     "output_type": "execute_result"
    }
   ],
   "source": [
    "# extract first cluster\n",
    "swissHC1 = dfSwiss[swissCut==0]\n",
    "swissHC1.mean()"
   ]
  },
  {
   "cell_type": "code",
   "execution_count": 39,
   "metadata": {},
   "outputs": [
    {
     "data": {
      "text/plain": [
       "Fertility          80.55000\n",
       "Agriculture        65.51875\n",
       "Examination         9.43750\n",
       "Education           6.62500\n",
       "Catholic           96.15000\n",
       "InfantMortality    20.77500\n",
       "dtype: float64"
      ]
     },
     "execution_count": 39,
     "metadata": {},
     "output_type": "execute_result"
    }
   ],
   "source": [
    "swissHC2 = dfSwiss[swissCut==1]\n",
    "swissHC2.mean()"
   ]
  },
  {
   "cell_type": "code",
   "execution_count": 40,
   "metadata": {
    "scrolled": true
   },
   "outputs": [
    {
     "data": {
      "text/plain": [
       "Fertility          65.606667\n",
       "Agriculture        61.873333\n",
       "Examination        16.933333\n",
       "Education           7.200000\n",
       "Catholic            6.545333\n",
       "InfantMortality    19.480000\n",
       "dtype: float64"
      ]
     },
     "execution_count": 40,
     "metadata": {},
     "output_type": "execute_result"
    }
   ],
   "source": [
    "swissHC3 = dfSwiss[swissCut==2]\n",
    "swissHC3.mean()"
   ]
  },
  {
   "cell_type": "markdown",
   "metadata": {},
   "source": [
    "### 4.3. Tandem analysis"
   ]
  },
  {
   "cell_type": "code",
   "execution_count": 51,
   "metadata": {},
   "outputs": [],
   "source": [
    "colors = []\n",
    "\n",
    "for i in range(len(flattenedSwissCut)):\n",
    "    if flattenedSwissCut[i]==0:\n",
    "        colors.append(\"hotpink\") \n",
    "    if flattenedSwissCut[i]==1:\n",
    "        colors.append(\"salmon\") \n",
    "    if flattenedSwissCut[i]==2:\n",
    "        colors.append(\"purple\") "
   ]
  },
  {
   "cell_type": "code",
   "execution_count": 45,
   "metadata": {},
   "outputs": [
    {
     "data": {
      "text/plain": [
       "['hotpink',\n",
       " 'green',\n",
       " 'green',\n",
       " 'hotpink',\n",
       " 'hotpink',\n",
       " 'green',\n",
       " 'green',\n",
       " 'green',\n",
       " 'green',\n",
       " 'green',\n",
       " 'green',\n",
       " 'blue',\n",
       " 'blue',\n",
       " 'blue',\n",
       " 'blue',\n",
       " 'blue',\n",
       " 'hotpink',\n",
       " 'hotpink',\n",
       " 'hotpink',\n",
       " 'blue',\n",
       " 'blue',\n",
       " 'blue',\n",
       " 'blue',\n",
       " 'blue',\n",
       " 'blue',\n",
       " 'blue',\n",
       " 'blue',\n",
       " 'blue',\n",
       " 'hotpink',\n",
       " 'blue',\n",
       " 'green',\n",
       " 'green',\n",
       " 'green',\n",
       " 'green',\n",
       " 'green',\n",
       " 'green',\n",
       " 'green',\n",
       " 'green',\n",
       " 'hotpink',\n",
       " 'hotpink',\n",
       " 'hotpink',\n",
       " 'hotpink',\n",
       " 'hotpink',\n",
       " 'hotpink',\n",
       " 'hotpink',\n",
       " 'hotpink',\n",
       " 'hotpink']"
      ]
     },
     "execution_count": 45,
     "metadata": {},
     "output_type": "execute_result"
    }
   ],
   "source": [
    "colors"
   ]
  },
  {
   "cell_type": "code",
   "execution_count": 52,
   "metadata": {},
   "outputs": [],
   "source": [
    "def coloredBiplot(data, pc1loads, pc2loads, pc1, pc2, data_labels=True):\n",
    "\n",
    "    for i in range(len(pc1loads)):\n",
    "    # arrows project features as vectors onto PC axes\n",
    "        plt.arrow(0, 0, pc1loads[i]*max(pc1), pc2loads[i]*max(pc2), color='r')#, width=0.0005, head_width=0.025)\n",
    "        plt.text(pc1loads[i]*max(pc1)*1.2, pc2loads[i]*max(pc2)*1.2, list(data.columns.values)[i], color='r')\n",
    "\n",
    "    for i in range(len(pc1)):\n",
    "    # circles project observations as points onto PC axes\n",
    "        plt.plot(pc1[i], pc2[i], marker='o', color=colors[i])\n",
    "        if data_labels:\n",
    "            data_label = list(data.index)[i]\n",
    "        else:\n",
    "            data_label = \"\"\n",
    "        \n",
    "        plt.text(pc1[i]*1.2, pc2[i]*1.2, data_label, color=colors[i])\n",
    "    \n",
    "    plt.xlabel('PC1')\n",
    "    plt.ylabel('PC2')\n",
    "    plt.grid()\n",
    "    plt.show()"
   ]
  },
  {
   "cell_type": "code",
   "execution_count": 54,
   "metadata": {},
   "outputs": [
    {
     "data": {
      "image/png": "[encoded data removed]",
      "text/plain": [
       "<Figure size 432x288 with 1 Axes>"
      ]
     },
     "metadata": {
      "needs_background": "light"
     },
     "output_type": "display_data"
    }
   ],
   "source": [
    "coloredBiplot(dfSwiss, PC1loadings, PC2loadings, PC1values, PC2values, data_labels=False)"
   ]
  }
 ],
 "metadata": {
  "kernelspec": {
   "display_name": "Python 3 (ipykernel)",
   "language": "python",
   "name": "python3"
  },
  "language_info": {
   "codemirror_mode": {
    "name": "ipython",
    "version": 3
   },
   "file_extension": ".py",
   "mimetype": "text/x-python",
   "name": "python",
   "nbconvert_exporter": "python",
   "pygments_lexer": "ipython3",
   "version": "3.9.12"
  },
  "varInspector": {
   "cols": {
    "lenName": 16,
    "lenType": 16,
    "lenVar": 40
   },
   "kernels_config": {
    "python": {
     "delete_cmd_postfix": "",
     "delete_cmd_prefix": "del ",
     "library": "var_list.py",
     "varRefreshCmd": "print(var_dic_list())"
    },
    "r": {
     "delete_cmd_postfix": ") ",
     "delete_cmd_prefix": "rm(",
     "library": "var_list.r",
     "varRefreshCmd": "cat(var_dic_list()) "
    }
   },
   "position": {
    "height": "144.35px",
    "left": "654.5px",
    "right": "20px",
    "top": "119px",
    "width": "350px"
   },
   "types_to_exclude": [
    "module",
    "function",
    "builtin_function_or_method",
    "instance",
    "_Feature"
   ],
   "window_display": false
  }
 },
 "nbformat": 4,
 "nbformat_minor": 2
}
